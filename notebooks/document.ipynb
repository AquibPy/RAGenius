{
 "cells": [
  {
   "cell_type": "markdown",
   "id": "77131c69",
   "metadata": {},
   "source": [
    "## Data Ingestion"
   ]
  },
  {
   "cell_type": "code",
   "execution_count": 1,
   "id": "9bd6827b",
   "metadata": {},
   "outputs": [],
   "source": [
    "## Document datastructure\n",
    "\n",
    "from langchain_core.documents import Document"
   ]
  },
  {
   "cell_type": "code",
   "execution_count": 2,
   "id": "ea7f09c8",
   "metadata": {},
   "outputs": [],
   "source": [
    "doc = Document(\n",
    "    page_content=\"Main file content\",\n",
    "    metadata=(\n",
    "        {\n",
    "            \"Source\": \"example.text\",\n",
    "            \"pages\": 1,\n",
    "            \"author\": \"Aquib\"\n",
    "        }\n",
    "    )\n",
    ")"
   ]
  },
  {
   "cell_type": "code",
   "execution_count": 3,
   "id": "2bb94ff2",
   "metadata": {},
   "outputs": [
    {
     "data": {
      "text/plain": [
       "Document(metadata={'Source': 'example.text', 'pages': 1, 'author': 'Aquib'}, page_content='Main file content')"
      ]
     },
     "execution_count": 3,
     "metadata": {},
     "output_type": "execute_result"
    }
   ],
   "source": [
    "doc"
   ]
  },
  {
   "cell_type": "code",
   "execution_count": 4,
   "id": "83eb5b73",
   "metadata": {},
   "outputs": [
    {
     "name": "stderr",
     "output_type": "stream",
     "text": [
      "c:\\Users\\maquib\\projects\\rag\\.venv\\Lib\\site-packages\\tqdm\\auto.py:21: TqdmWarning: IProgress not found. Please update jupyter and ipywidgets. See https://ipywidgets.readthedocs.io/en/stable/user_install.html\n",
      "  from .autonotebook import tqdm as notebook_tqdm\n"
     ]
    },
    {
     "name": "stdout",
     "output_type": "stream",
     "text": [
      "[Document(metadata={'source': '..\\\\data\\\\text_files\\\\python.txt'}, page_content='Python Programming Language\\n\\nPython is a high-level, interpreted programming language renowned for its elegant syntax and exceptional readability. Created by Guido van Rossum and first released in 1991, Python has evolved into one of the world\\'s most popular and versatile programming languages.\\n\\nCore Features\\n1. Simple and Readable Syntax: Uses indentation for code blocks and emphasizes code readability\\n2. Dynamic Typing: Variables are dynamically typed, making development more flexible\\n3. Rich Standard Library: Comes with \"batteries included\" for diverse programming tasks\\n4. Cross-Platform: Runs on Windows, macOS, Linux, and other platforms\\n5. Active Community: Large, supportive community creating numerous third-party packages\\n\\nKey Applications\\n- Web Development: Frameworks like Django and Flask\\n- Data Science: NumPy, Pandas, and SciPy libraries\\n- Machine Learning: TensorFlow, PyTorch, and scikit-learn\\n- Automation: Scripting and task automation\\n- Scientific Computing: Research and numerical computations\\n\\nPython Philosophy\\n\"Beautiful is better than ugly.\\nSimple is better than complex.\\nComplex is better than complicated.\\nReadability counts.\"\\n-- The Zen of Python\\n\\nPython continues to grow in popularity, especially in emerging fields like artificial intelligence, data analytics, and cloud computing.\\n')]\n"
     ]
    }
   ],
   "source": [
    "## Text Loader\n",
    "\n",
    "from langchain_community.document_loaders import TextLoader\n",
    "\n",
    "loader = TextLoader(r\"..\\data\\text_files\\python.txt\",encoding='utf-8')\n",
    "document = loader.load()\n",
    "print(document)"
   ]
  },
  {
   "cell_type": "code",
   "execution_count": 5,
   "id": "2ce9d6a3",
   "metadata": {},
   "outputs": [
    {
     "name": "stderr",
     "output_type": "stream",
     "text": [
      "  0%|          | 0/2 [00:00<?, ?it/s]"
     ]
    },
    {
     "name": "stderr",
     "output_type": "stream",
     "text": [
      "100%|██████████| 2/2 [00:00<00:00, 60.94it/s]"
     ]
    },
    {
     "name": "stdout",
     "output_type": "stream",
     "text": [
      "[Document(metadata={'source': '..\\\\data\\\\text_files\\\\ml.txt'}, page_content='Machine Learning - overview and notes\\n\\nWhat is ML:\\nMachine learning (ML) builds models that learn patterns from data to make predictions or decisions without being explicitly programmed.\\n\\nMain types:\\n- Supervised learning: regression, classification (labels provided).\\n- Unsupervised learning: clustering, dimensionality reduction (no labels).\\n- Reinforcement learning: agents learn via rewards and interactions.\\n\\nTypical workflow:\\n1. Problem definition and metrics.\\n2. Data collection and exploration (EDA).\\n3. Preprocessing: cleaning, imputation, scaling, categorical encoding.\\n4. Feature engineering and selection.\\n5. Train/validation/test split; cross-validation.\\n6. Model training and hyperparameter tuning.\\n7. Evaluation on hold-out test set.\\n8. Deployment and monitoring.\\n\\nCommon algorithms:\\n- Linear models: linear regression, logistic regression.\\n- Tree-based: decision trees, random forest, gradient boosting (XGBoost, LightGBM).\\n- Kernel methods: SVM.\\n- Clustering & DR: k-means, DBSCAN, PCA, t-SNE, UMAP.\\n- Neural networks: MLPs, CNNs, RNNs/Transformers for structured, image, sequence data.\\n\\nEvaluation metrics:\\n- Classification: accuracy, precision, recall, F1, ROC AUC.\\n- Regression: MSE, RMSE, MAE, R².\\n- Clustering: silhouette score, adjusted rand index.\\n\\nBest practices:\\n- Prevent data leakage (strict separation of train/test).\\n- Use cross-validation for robust estimates.\\n- Scale features when required and encode categories appropriately.\\n- Regularize and monitor for overfitting.\\n- Track experiments: seeds, configs, metrics, and artifacts.\\n\\nTools & libraries:\\n- Python ecosystem: numpy, pandas, scikit-learn.\\n- Deep learning: TensorFlow, Keras, PyTorch.\\n- Boosting: XGBoost, LightGBM, CatBoost.\\n- Data & experiment management: MLflow, DVC, Weights & Biases.\\n\\nQuick tips:\\n- Start with simple baselines before complex models.\\n- Visualize data and errors to guide improvements.\\n- Keep models reproducible and document assumptions.\\n\\nFurther learning:\\n- Hands-on projects, online courses (e.g., introductory ML courses), and library documentation.'), Document(metadata={'source': '..\\\\data\\\\text_files\\\\python.txt'}, page_content='Python Programming Language\\n\\nPython is a high-level, interpreted programming language renowned for its elegant syntax and exceptional readability. Created by Guido van Rossum and first released in 1991, Python has evolved into one of the world\\'s most popular and versatile programming languages.\\n\\nCore Features\\n1. Simple and Readable Syntax: Uses indentation for code blocks and emphasizes code readability\\n2. Dynamic Typing: Variables are dynamically typed, making development more flexible\\n3. Rich Standard Library: Comes with \"batteries included\" for diverse programming tasks\\n4. Cross-Platform: Runs on Windows, macOS, Linux, and other platforms\\n5. Active Community: Large, supportive community creating numerous third-party packages\\n\\nKey Applications\\n- Web Development: Frameworks like Django and Flask\\n- Data Science: NumPy, Pandas, and SciPy libraries\\n- Machine Learning: TensorFlow, PyTorch, and scikit-learn\\n- Automation: Scripting and task automation\\n- Scientific Computing: Research and numerical computations\\n\\nPython Philosophy\\n\"Beautiful is better than ugly.\\nSimple is better than complex.\\nComplex is better than complicated.\\nReadability counts.\"\\n-- The Zen of Python\\n\\nPython continues to grow in popularity, especially in emerging fields like artificial intelligence, data analytics, and cloud computing.\\n')]\n"
     ]
    },
    {
     "name": "stderr",
     "output_type": "stream",
     "text": [
      "\n"
     ]
    }
   ],
   "source": [
    "## Directory Loader\n",
    "from langchain_community.document_loaders import DirectoryLoader\n",
    "\n",
    "dir_loader = DirectoryLoader(\n",
    "    r\"..\\data\\text_files\",\n",
    "    glob = \"**/*.txt\",\n",
    "    loader_cls= TextLoader, # if there is pdf also then use list of loaders\n",
    "    loader_kwargs={'encoding':'utf-8'},\n",
    "    show_progress=True\n",
    ")\n",
    "\n",
    "dir_document = dir_loader.load()\n",
    "print(dir_document)"
   ]
  },
  {
   "cell_type": "code",
   "execution_count": 6,
   "id": "37728713",
   "metadata": {},
   "outputs": [
    {
     "name": "stderr",
     "output_type": "stream",
     "text": [
      "100%|██████████| 2/2 [00:01<00:00,  1.18it/s]\n"
     ]
    },
    {
     "data": {
      "text/plain": [
       "[Document(metadata={'producer': 'PDFium', 'creator': 'PDFium', 'creationdate': 'D:20251023172502', 'source': '..\\\\data\\\\pdf_files\\\\attention.pdf', 'file_path': '..\\\\data\\\\pdf_files\\\\attention.pdf', 'total_pages': 11, 'format': 'PDF 1.7', 'title': '', 'author': '', 'subject': '', 'keywords': '', 'moddate': '', 'trapped': '', 'modDate': '', 'creationDate': 'D:20251023172502', 'page': 0}, page_content='Attention Is All You Need\\nAshish Vaswani∗\\nGoogle Brain\\navaswani@google.com\\nNoam Shazeer∗\\nGoogle Brain\\nnoam@google.com\\nNiki Parmar∗\\nGoogle Research\\nnikip@google.com\\nJakob Uszkoreit∗\\nGoogle Research\\nusz@google.com\\nLlion Jones∗\\nGoogle Research\\nllion@google.com\\nAidan N. Gomez∗†\\nUniversity of Toronto\\naidan@cs.toronto.edu\\nŁukasz Kaiser∗\\nGoogle Brain\\nlukaszkaiser@google.com\\nIllia Polosukhin∗‡\\nillia.polosukhin@gmail.com\\nAbstract\\nThe dominant sequence transduction models are based on complex recurrent or\\nconvolutional neural networks that include an encoder and a decoder. The best\\nperforming models also connect the encoder and decoder through an attention\\nmechanism. We propose a new simple network architecture, the Transformer,\\nbased solely on attention mechanisms, dispensing with recurrence and convolutions\\nentirely. Experiments on two machine translation tasks show these models to\\nbe superior in quality while being more parallelizable and requiring signiﬁcantly\\nless time to train. Our model achieves 28.4 BLEU on the WMT 2014 English-\\nto-German translation task, improving over the existing best results, including\\nensembles, by over 2 BLEU. On the WMT 2014 English-to-French translation task,\\nour model establishes a new single-model state-of-the-art BLEU score of 41.0 after\\ntraining for 3.5 days on eight GPUs, a small fraction of the training costs of the\\nbest models from the literature.\\n1\\nIntroduction\\nRecurrent neural networks, long short-term memory [12] and gated recurrent [7] neural networks\\nin particular, have been ﬁrmly established as state of the art approaches in sequence modeling and\\ntransduction problems such as language modeling and machine translation [29, 2, 5]. Numerous\\nefforts have since continued to push the boundaries of recurrent language models and encoder-decoder\\narchitectures [31, 21, 13].\\n∗Equal contribution. Listing order is random. Jakob proposed replacing RNNs with self-attention and started\\nthe effort to evaluate this idea. Ashish, with Illia, designed and implemented the ﬁrst Transformer models and\\nhas been crucially involved in every aspect of this work. Noam proposed scaled dot-product attention, multi-head\\nattention and the parameter-free position representation and became the other person involved in nearly every\\ndetail. Niki designed, implemented, tuned and evaluated countless model variants in our original codebase and\\ntensor2tensor. Llion also experimented with novel model variants, was responsible for our initial codebase, and\\nefﬁcient inference and visualizations. Lukasz and Aidan spent countless long days designing various parts of and\\nimplementing tensor2tensor, replacing our earlier codebase, greatly improving results and massively accelerating\\nour research.\\n†Work performed while at Google Brain.\\n‡Work performed while at Google Research.\\n31st Conference on Neural Information Processing Systems (NIPS 2017), Long Beach, CA, USA.'),\n",
       " Document(metadata={'producer': 'PDFium', 'creator': 'PDFium', 'creationdate': 'D:20251023172502', 'source': '..\\\\data\\\\pdf_files\\\\attention.pdf', 'file_path': '..\\\\data\\\\pdf_files\\\\attention.pdf', 'total_pages': 11, 'format': 'PDF 1.7', 'title': '', 'author': '', 'subject': '', 'keywords': '', 'moddate': '', 'trapped': '', 'modDate': '', 'creationDate': 'D:20251023172502', 'page': 1}, page_content='Recurrent models typically factor computation along the symbol positions of the input and output\\nsequences. Aligning the positions to steps in computation time, they generate a sequence of hidden\\nstates ht, as a function of the previous hidden state ht−1 and the input for position t. This inherently\\nsequential nature precludes parallelization within training examples, which becomes critical at longer\\nsequence lengths, as memory constraints limit batching across examples. Recent work has achieved\\nsigniﬁcant improvements in computational efﬁciency through factorization tricks [18] and conditional\\ncomputation [26], while also improving model performance in case of the latter. The fundamental\\nconstraint of sequential computation, however, remains.\\nAttention mechanisms have become an integral part of compelling sequence modeling and transduc-\\ntion models in various tasks, allowing modeling of dependencies without regard to their distance in\\nthe input or output sequences [2, 16]. In all but a few cases [22], however, such attention mechanisms\\nare used in conjunction with a recurrent network.\\nIn this work we propose the Transformer, a model architecture eschewing recurrence and instead\\nrelying entirely on an attention mechanism to draw global dependencies between input and output.\\nThe Transformer allows for signiﬁcantly more parallelization and can reach a new state of the art in\\ntranslation quality after being trained for as little as twelve hours on eight P100 GPUs.\\n2\\nBackground\\nThe goal of reducing sequential computation also forms the foundation of the Extended Neural GPU\\n[20], ByteNet [15] and ConvS2S [8], all of which use convolutional neural networks as basic building\\nblock, computing hidden representations in parallel for all input and output positions. In these models,\\nthe number of operations required to relate signals from two arbitrary input or output positions grows\\nin the distance between positions, linearly for ConvS2S and logarithmically for ByteNet. This makes\\nit more difﬁcult to learn dependencies between distant positions [11]. In the Transformer this is\\nreduced to a constant number of operations, albeit at the cost of reduced effective resolution due\\nto averaging attention-weighted positions, an effect we counteract with Multi-Head Attention as\\ndescribed in section 3.2.\\nSelf-attention, sometimes called intra-attention is an attention mechanism relating different positions\\nof a single sequence in order to compute a representation of the sequence. Self-attention has been\\nused successfully in a variety of tasks including reading comprehension, abstractive summarization,\\ntextual entailment and learning task-independent sentence representations [4, 22, 23, 19].\\nEnd-to-end memory networks are based on a recurrent attention mechanism instead of sequence-\\naligned recurrence and have been shown to perform well on simple-language question answering and\\nlanguage modeling tasks [28].\\nTo the best of our knowledge, however, the Transformer is the ﬁrst transduction model relying\\nentirely on self-attention to compute representations of its input and output without using sequence-\\naligned RNNs or convolution. In the following sections, we will describe the Transformer, motivate\\nself-attention and discuss its advantages over models such as [14, 15] and [8].\\n3\\nModel Architecture\\nMost competitive neural sequence transduction models have an encoder-decoder structure [5, 2, 29].\\nHere, the encoder maps an input sequence of symbol representations (x1, ..., xn) to a sequence\\nof continuous representations z = (z1, ..., zn). Given z, the decoder then generates an output\\nsequence (y1, ..., ym) of symbols one element at a time. At each step the model is auto-regressive\\n[9], consuming the previously generated symbols as additional input when generating the next.\\nThe Transformer follows this overall architecture using stacked self-attention and point-wise, fully\\nconnected layers for both the encoder and decoder, shown in the left and right halves of Figure 1,\\nrespectively.\\n3.1\\nEncoder and Decoder Stacks\\nEncoder:\\nThe encoder is composed of a stack of N = 6 identical layers. Each layer has two\\nsub-layers. The ﬁrst is a multi-head self-attention mechanism, and the second is a simple, position-\\n2'),\n",
       " Document(metadata={'producer': 'PDFium', 'creator': 'PDFium', 'creationdate': 'D:20251023172502', 'source': '..\\\\data\\\\pdf_files\\\\attention.pdf', 'file_path': '..\\\\data\\\\pdf_files\\\\attention.pdf', 'total_pages': 11, 'format': 'PDF 1.7', 'title': '', 'author': '', 'subject': '', 'keywords': '', 'moddate': '', 'trapped': '', 'modDate': '', 'creationDate': 'D:20251023172502', 'page': 2}, page_content='Figure 1: The Transformer - model architecture.\\nwise fully connected feed-forward network. We employ a residual connection [10] around each of\\nthe two sub-layers, followed by layer normalization [1]. That is, the output of each sub-layer is\\nLayerNorm(x + Sublayer(x)), where Sublayer(x) is the function implemented by the sub-layer\\nitself. To facilitate these residual connections, all sub-layers in the model, as well as the embedding\\nlayers, produce outputs of dimension dmodel = 512.\\nDecoder:\\nThe decoder is also composed of a stack of N = 6 identical layers. In addition to the two\\nsub-layers in each encoder layer, the decoder inserts a third sub-layer, which performs multi-head\\nattention over the output of the encoder stack. Similar to the encoder, we employ residual connections\\naround each of the sub-layers, followed by layer normalization. We also modify the self-attention\\nsub-layer in the decoder stack to prevent positions from attending to subsequent positions. This\\nmasking, combined with fact that the output embeddings are offset by one position, ensures that the\\npredictions for position i can depend only on the known outputs at positions less than i.\\n3.2\\nAttention\\nAn attention function can be described as mapping a query and a set of key-value pairs to an output,\\nwhere the query, keys, values, and output are all vectors. The output is computed as a weighted sum\\nof the values, where the weight assigned to each value is computed by a compatibility function of the\\nquery with the corresponding key.\\n3.2.1\\nScaled Dot-Product Attention\\nWe call our particular attention \"Scaled Dot-Product Attention\" (Figure 2). The input consists of\\nqueries and keys of dimension dk, and values of dimension dv. We compute the dot products of the\\n3'),\n",
       " Document(metadata={'producer': 'PDFium', 'creator': 'PDFium', 'creationdate': 'D:20251023172502', 'source': '..\\\\data\\\\pdf_files\\\\attention.pdf', 'file_path': '..\\\\data\\\\pdf_files\\\\attention.pdf', 'total_pages': 11, 'format': 'PDF 1.7', 'title': '', 'author': '', 'subject': '', 'keywords': '', 'moddate': '', 'trapped': '', 'modDate': '', 'creationDate': 'D:20251023172502', 'page': 3}, page_content='Scaled Dot-Product Attention\\nMulti-Head Attention\\nFigure 2: (left) Scaled Dot-Product Attention. (right) Multi-Head Attention consists of several\\nattention layers running in parallel.\\nquery with all keys, divide each by √dk, and apply a softmax function to obtain the weights on the\\nvalues.\\nIn practice, we compute the attention function on a set of queries simultaneously, packed together\\ninto a matrix Q. The keys and values are also packed together into matrices K and V . We compute\\nthe matrix of outputs as:\\nAttention(Q, K, V ) = softmax(QKT\\n√dk\\n)V\\n(1)\\nThe two most commonly used attention functions are additive attention [2], and dot-product (multi-\\nplicative) attention. Dot-product attention is identical to our algorithm, except for the scaling factor\\nof\\n1\\n√dk . Additive attention computes the compatibility function using a feed-forward network with\\na single hidden layer. While the two are similar in theoretical complexity, dot-product attention is\\nmuch faster and more space-efﬁcient in practice, since it can be implemented using highly optimized\\nmatrix multiplication code.\\nWhile for small values of dk the two mechanisms perform similarly, additive attention outperforms\\ndot product attention without scaling for larger values of dk [3]. We suspect that for large values of\\ndk, the dot products grow large in magnitude, pushing the softmax function into regions where it has\\nextremely small gradients 4. To counteract this effect, we scale the dot products by\\n1\\n√dk .\\n3.2.2\\nMulti-Head Attention\\nInstead of performing a single attention function with dmodel-dimensional keys, values and queries,\\nwe found it beneﬁcial to linearly project the queries, keys and values h times with different, learned\\nlinear projections to dk, dk and dv dimensions, respectively. On each of these projected versions of\\nqueries, keys and values we then perform the attention function in parallel, yielding dv-dimensional\\noutput values. These are concatenated and once again projected, resulting in the ﬁnal values, as\\ndepicted in Figure 2.\\nMulti-head attention allows the model to jointly attend to information from different representation\\nsubspaces at different positions. With a single attention head, averaging inhibits this.\\n4To illustrate why the dot products get large, assume that the components of q and k are independent random\\nvariables with mean 0 and variance 1. Then their dot product, q · k = Pdk\\ni=1 qiki, has mean 0 and variance dk.\\n4'),\n",
       " Document(metadata={'producer': 'PDFium', 'creator': 'PDFium', 'creationdate': 'D:20251023172502', 'source': '..\\\\data\\\\pdf_files\\\\attention.pdf', 'file_path': '..\\\\data\\\\pdf_files\\\\attention.pdf', 'total_pages': 11, 'format': 'PDF 1.7', 'title': '', 'author': '', 'subject': '', 'keywords': '', 'moddate': '', 'trapped': '', 'modDate': '', 'creationDate': 'D:20251023172502', 'page': 4}, page_content='MultiHead(Q, K, V ) = Concat(head1, ..., headh)W O\\nwhere headi = Attention(QW Q\\ni , KW K\\ni , V W V\\ni )\\nWhere the projections are parameter matrices W Q\\ni\\n∈Rdmodel×dk, W K\\ni\\n∈Rdmodel×dk, W V\\ni\\n∈Rdmodel×dv\\nand W O ∈Rhdv×dmodel.\\nIn this work we employ h = 8 parallel attention layers, or heads. For each of these we use\\ndk = dv = dmodel/h = 64. Due to the reduced dimension of each head, the total computational cost\\nis similar to that of single-head attention with full dimensionality.\\n3.2.3\\nApplications of Attention in our Model\\nThe Transformer uses multi-head attention in three different ways:\\n• In \"encoder-decoder attention\" layers, the queries come from the previous decoder layer,\\nand the memory keys and values come from the output of the encoder. This allows every\\nposition in the decoder to attend over all positions in the input sequence. This mimics the\\ntypical encoder-decoder attention mechanisms in sequence-to-sequence models such as\\n[31, 2, 8].\\n• The encoder contains self-attention layers. In a self-attention layer all of the keys, values\\nand queries come from the same place, in this case, the output of the previous layer in the\\nencoder. Each position in the encoder can attend to all positions in the previous layer of the\\nencoder.\\n• Similarly, self-attention layers in the decoder allow each position in the decoder to attend to\\nall positions in the decoder up to and including that position. We need to prevent leftward\\ninformation ﬂow in the decoder to preserve the auto-regressive property. We implement this\\ninside of scaled dot-product attention by masking out (setting to −∞) all values in the input\\nof the softmax which correspond to illegal connections. See Figure 2.\\n3.3\\nPosition-wise Feed-Forward Networks\\nIn addition to attention sub-layers, each of the layers in our encoder and decoder contains a fully\\nconnected feed-forward network, which is applied to each position separately and identically. This\\nconsists of two linear transformations with a ReLU activation in between.\\nFFN(x) = max(0, xW1 + b1)W2 + b2\\n(2)\\nWhile the linear transformations are the same across different positions, they use different parameters\\nfrom layer to layer. Another way of describing this is as two convolutions with kernel size 1.\\nThe dimensionality of input and output is dmodel = 512, and the inner-layer has dimensionality\\ndff = 2048.\\n3.4\\nEmbeddings and Softmax\\nSimilarly to other sequence transduction models, we use learned embeddings to convert the input\\ntokens and output tokens to vectors of dimension dmodel. We also use the usual learned linear transfor-\\nmation and softmax function to convert the decoder output to predicted next-token probabilities. In\\nour model, we share the same weight matrix between the two embedding layers and the pre-softmax\\nlinear transformation, similar to [24]. In the embedding layers, we multiply those weights by √dmodel.\\n3.5\\nPositional Encoding\\nSince our model contains no recurrence and no convolution, in order for the model to make use of the\\norder of the sequence, we must inject some information about the relative or absolute position of the\\ntokens in the sequence. To this end, we add \"positional encodings\" to the input embeddings at the\\n5'),\n",
       " Document(metadata={'producer': 'PDFium', 'creator': 'PDFium', 'creationdate': 'D:20251023172502', 'source': '..\\\\data\\\\pdf_files\\\\attention.pdf', 'file_path': '..\\\\data\\\\pdf_files\\\\attention.pdf', 'total_pages': 11, 'format': 'PDF 1.7', 'title': '', 'author': '', 'subject': '', 'keywords': '', 'moddate': '', 'trapped': '', 'modDate': '', 'creationDate': 'D:20251023172502', 'page': 5}, page_content='Table 1: Maximum path lengths, per-layer complexity and minimum number of sequential operations\\nfor different layer types. n is the sequence length, d is the representation dimension, k is the kernel\\nsize of convolutions and r the size of the neighborhood in restricted self-attention.\\nLayer Type\\nComplexity per Layer\\nSequential\\nMaximum Path Length\\nOperations\\nSelf-Attention\\nO(n2 · d)\\nO(1)\\nO(1)\\nRecurrent\\nO(n · d2)\\nO(n)\\nO(n)\\nConvolutional\\nO(k · n · d2)\\nO(1)\\nO(logk(n))\\nSelf-Attention (restricted)\\nO(r · n · d)\\nO(1)\\nO(n/r)\\nbottoms of the encoder and decoder stacks. The positional encodings have the same dimension dmodel\\nas the embeddings, so that the two can be summed. There are many choices of positional encodings,\\nlearned and ﬁxed [8].\\nIn this work, we use sine and cosine functions of different frequencies:\\nPE(pos,2i) = sin(pos/100002i/dmodel)\\nPE(pos,2i+1) = cos(pos/100002i/dmodel)\\nwhere pos is the position and i is the dimension. That is, each dimension of the positional encoding\\ncorresponds to a sinusoid. The wavelengths form a geometric progression from 2π to 10000 · 2π. We\\nchose this function because we hypothesized it would allow the model to easily learn to attend by\\nrelative positions, since for any ﬁxed offset k, PEpos+k can be represented as a linear function of\\nPEpos.\\nWe also experimented with using learned positional embeddings [8] instead, and found that the two\\nversions produced nearly identical results (see Table 3 row (E)). We chose the sinusoidal version\\nbecause it may allow the model to extrapolate to sequence lengths longer than the ones encountered\\nduring training.\\n4\\nWhy Self-Attention\\nIn this section we compare various aspects of self-attention layers to the recurrent and convolu-\\ntional layers commonly used for mapping one variable-length sequence of symbol representations\\n(x1, ..., xn) to another sequence of equal length (z1, ..., zn), with xi, zi ∈Rd, such as a hidden\\nlayer in a typical sequence transduction encoder or decoder. Motivating our use of self-attention we\\nconsider three desiderata.\\nOne is the total computational complexity per layer. Another is the amount of computation that can\\nbe parallelized, as measured by the minimum number of sequential operations required.\\nThe third is the path length between long-range dependencies in the network. Learning long-range\\ndependencies is a key challenge in many sequence transduction tasks. One key factor affecting the\\nability to learn such dependencies is the length of the paths forward and backward signals have to\\ntraverse in the network. The shorter these paths between any combination of positions in the input\\nand output sequences, the easier it is to learn long-range dependencies [11]. Hence we also compare\\nthe maximum path length between any two input and output positions in networks composed of the\\ndifferent layer types.\\nAs noted in Table 1, a self-attention layer connects all positions with a constant number of sequentially\\nexecuted operations, whereas a recurrent layer requires O(n) sequential operations. In terms of\\ncomputational complexity, self-attention layers are faster than recurrent layers when the sequence\\nlength n is smaller than the representation dimensionality d, which is most often the case with\\nsentence representations used by state-of-the-art models in machine translations, such as word-piece\\n[31] and byte-pair [25] representations. To improve computational performance for tasks involving\\nvery long sequences, self-attention could be restricted to considering only a neighborhood of size r in\\n6'),\n",
       " Document(metadata={'producer': 'PDFium', 'creator': 'PDFium', 'creationdate': 'D:20251023172502', 'source': '..\\\\data\\\\pdf_files\\\\attention.pdf', 'file_path': '..\\\\data\\\\pdf_files\\\\attention.pdf', 'total_pages': 11, 'format': 'PDF 1.7', 'title': '', 'author': '', 'subject': '', 'keywords': '', 'moddate': '', 'trapped': '', 'modDate': '', 'creationDate': 'D:20251023172502', 'page': 6}, page_content='the input sequence centered around the respective output position. This would increase the maximum\\npath length to O(n/r). We plan to investigate this approach further in future work.\\nA single convolutional layer with kernel width k < n does not connect all pairs of input and output\\npositions. Doing so requires a stack of O(n/k) convolutional layers in the case of contiguous kernels,\\nor O(logk(n)) in the case of dilated convolutions [15], increasing the length of the longest paths\\nbetween any two positions in the network. Convolutional layers are generally more expensive than\\nrecurrent layers, by a factor of k. Separable convolutions [6], however, decrease the complexity\\nconsiderably, to O(k · n · d + n · d2). Even with k = n, however, the complexity of a separable\\nconvolution is equal to the combination of a self-attention layer and a point-wise feed-forward layer,\\nthe approach we take in our model.\\nAs side beneﬁt, self-attention could yield more interpretable models. We inspect attention distributions\\nfrom our models and present and discuss examples in the appendix. Not only do individual attention\\nheads clearly learn to perform different tasks, many appear to exhibit behavior related to the syntactic\\nand semantic structure of the sentences.\\n5\\nTraining\\nThis section describes the training regime for our models.\\n5.1\\nTraining Data and Batching\\nWe trained on the standard WMT 2014 English-German dataset consisting of about 4.5 million\\nsentence pairs. Sentences were encoded using byte-pair encoding [3], which has a shared source-\\ntarget vocabulary of about 37000 tokens. For English-French, we used the signiﬁcantly larger WMT\\n2014 English-French dataset consisting of 36M sentences and split tokens into a 32000 word-piece\\nvocabulary [31]. Sentence pairs were batched together by approximate sequence length. Each training\\nbatch contained a set of sentence pairs containing approximately 25000 source tokens and 25000\\ntarget tokens.\\n5.2\\nHardware and Schedule\\nWe trained our models on one machine with 8 NVIDIA P100 GPUs. For our base models using\\nthe hyperparameters described throughout the paper, each training step took about 0.4 seconds. We\\ntrained the base models for a total of 100,000 steps or 12 hours. For our big models,(described on the\\nbottom line of table 3), step time was 1.0 seconds. The big models were trained for 300,000 steps\\n(3.5 days).\\n5.3\\nOptimizer\\nWe used the Adam optimizer [17] with β1 = 0.9, β2 = 0.98 and ϵ = 10−9. We varied the learning\\nrate over the course of training, according to the formula:\\nlrate = d−0.5\\nmodel · min(step_num−0.5, step_num · warmup_steps−1.5)\\n(3)\\nThis corresponds to increasing the learning rate linearly for the ﬁrst warmup_steps training steps,\\nand decreasing it thereafter proportionally to the inverse square root of the step number. We used\\nwarmup_steps = 4000.\\n5.4\\nRegularization\\nWe employ three types of regularization during training:\\nResidual Dropout\\nWe apply dropout [27] to the output of each sub-layer, before it is added to the\\nsub-layer input and normalized. In addition, we apply dropout to the sums of the embeddings and the\\npositional encodings in both the encoder and decoder stacks. For the base model, we use a rate of\\nPdrop = 0.1.\\n7'),\n",
       " Document(metadata={'producer': 'PDFium', 'creator': 'PDFium', 'creationdate': 'D:20251023172502', 'source': '..\\\\data\\\\pdf_files\\\\attention.pdf', 'file_path': '..\\\\data\\\\pdf_files\\\\attention.pdf', 'total_pages': 11, 'format': 'PDF 1.7', 'title': '', 'author': '', 'subject': '', 'keywords': '', 'moddate': '', 'trapped': '', 'modDate': '', 'creationDate': 'D:20251023172502', 'page': 7}, page_content='Table 2: The Transformer achieves better BLEU scores than previous state-of-the-art models on the\\nEnglish-to-German and English-to-French newstest2014 tests at a fraction of the training cost.\\nModel\\nBLEU\\nTraining Cost (FLOPs)\\nEN-DE\\nEN-FR\\nEN-DE\\nEN-FR\\nByteNet [15]\\n23.75\\nDeep-Att + PosUnk [32]\\n39.2\\n1.0 · 1020\\nGNMT + RL [31]\\n24.6\\n39.92\\n2.3 · 1019\\n1.4 · 1020\\nConvS2S [8]\\n25.16\\n40.46\\n9.6 · 1018\\n1.5 · 1020\\nMoE [26]\\n26.03\\n40.56\\n2.0 · 1019\\n1.2 · 1020\\nDeep-Att + PosUnk Ensemble [32]\\n40.4\\n8.0 · 1020\\nGNMT + RL Ensemble [31]\\n26.30\\n41.16\\n1.8 · 1020\\n1.1 · 1021\\nConvS2S Ensemble [8]\\n26.36\\n41.29\\n7.7 · 1019\\n1.2 · 1021\\nTransformer (base model)\\n27.3\\n38.1\\n3.3 · 1018\\nTransformer (big)\\n28.4\\n41.0\\n2.3 · 1019\\nLabel Smoothing\\nDuring training, we employed label smoothing of value ϵls = 0.1 [30]. This\\nhurts perplexity, as the model learns to be more unsure, but improves accuracy and BLEU score.\\n6\\nResults\\n6.1\\nMachine Translation\\nOn the WMT 2014 English-to-German translation task, the big transformer model (Transformer (big)\\nin Table 2) outperforms the best previously reported models (including ensembles) by more than 2.0\\nBLEU, establishing a new state-of-the-art BLEU score of 28.4. The conﬁguration of this model is\\nlisted in the bottom line of Table 3. Training took 3.5 days on 8 P100 GPUs. Even our base model\\nsurpasses all previously published models and ensembles, at a fraction of the training cost of any of\\nthe competitive models.\\nOn the WMT 2014 English-to-French translation task, our big model achieves a BLEU score of 41.0,\\noutperforming all of the previously published single models, at less than 1/4 the training cost of the\\nprevious state-of-the-art model. The Transformer (big) model trained for English-to-French used\\ndropout rate Pdrop = 0.1, instead of 0.3.\\nFor the base models, we used a single model obtained by averaging the last 5 checkpoints, which\\nwere written at 10-minute intervals. For the big models, we averaged the last 20 checkpoints. We\\nused beam search with a beam size of 4 and length penalty α = 0.6 [31]. These hyperparameters\\nwere chosen after experimentation on the development set. We set the maximum output length during\\ninference to input length + 50, but terminate early when possible [31].\\nTable 2 summarizes our results and compares our translation quality and training costs to other model\\narchitectures from the literature. We estimate the number of ﬂoating point operations used to train a\\nmodel by multiplying the training time, the number of GPUs used, and an estimate of the sustained\\nsingle-precision ﬂoating-point capacity of each GPU 5.\\n6.2\\nModel Variations\\nTo evaluate the importance of different components of the Transformer, we varied our base model\\nin different ways, measuring the change in performance on English-to-German translation on the\\ndevelopment set, newstest2013. We used beam search as described in the previous section, but no\\ncheckpoint averaging. We present these results in Table 3.\\nIn Table 3 rows (A), we vary the number of attention heads and the attention key and value dimensions,\\nkeeping the amount of computation constant, as described in Section 3.2.2. While single-head\\nattention is 0.9 BLEU worse than the best setting, quality also drops off with too many heads.\\n5We used values of 2.8, 3.7, 6.0 and 9.5 TFLOPS for K80, K40, M40 and P100, respectively.\\n8'),\n",
       " Document(metadata={'producer': 'PDFium', 'creator': 'PDFium', 'creationdate': 'D:20251023172502', 'source': '..\\\\data\\\\pdf_files\\\\attention.pdf', 'file_path': '..\\\\data\\\\pdf_files\\\\attention.pdf', 'total_pages': 11, 'format': 'PDF 1.7', 'title': '', 'author': '', 'subject': '', 'keywords': '', 'moddate': '', 'trapped': '', 'modDate': '', 'creationDate': 'D:20251023172502', 'page': 8}, page_content='Table 3: Variations on the Transformer architecture. Unlisted values are identical to those of the base\\nmodel. All metrics are on the English-to-German translation development set, newstest2013. Listed\\nperplexities are per-wordpiece, according to our byte-pair encoding, and should not be compared to\\nper-word perplexities.\\nN\\ndmodel\\ndff\\nh\\ndk\\ndv\\nPdrop\\nϵls\\ntrain\\nPPL\\nBLEU\\nparams\\nsteps\\n(dev)\\n(dev)\\n×106\\nbase\\n6\\n512\\n2048\\n8\\n64\\n64\\n0.1\\n0.1\\n100K\\n4.92\\n25.8\\n65\\n(A)\\n1\\n512\\n512\\n5.29\\n24.9\\n4\\n128\\n128\\n5.00\\n25.5\\n16\\n32\\n32\\n4.91\\n25.8\\n32\\n16\\n16\\n5.01\\n25.4\\n(B)\\n16\\n5.16\\n25.1\\n58\\n32\\n5.01\\n25.4\\n60\\n(C)\\n2\\n6.11\\n23.7\\n36\\n4\\n5.19\\n25.3\\n50\\n8\\n4.88\\n25.5\\n80\\n256\\n32\\n32\\n5.75\\n24.5\\n28\\n1024\\n128\\n128\\n4.66\\n26.0\\n168\\n1024\\n5.12\\n25.4\\n53\\n4096\\n4.75\\n26.2\\n90\\n(D)\\n0.0\\n5.77\\n24.6\\n0.2\\n4.95\\n25.5\\n0.0\\n4.67\\n25.3\\n0.2\\n5.47\\n25.7\\n(E)\\npositional embedding instead of sinusoids\\n4.92\\n25.7\\nbig\\n6\\n1024\\n4096\\n16\\n0.3\\n300K\\n4.33\\n26.4\\n213\\nIn Table 3 rows (B), we observe that reducing the attention key size dk hurts model quality. This\\nsuggests that determining compatibility is not easy and that a more sophisticated compatibility\\nfunction than dot product may be beneﬁcial. We further observe in rows (C) and (D) that, as expected,\\nbigger models are better, and dropout is very helpful in avoiding over-ﬁtting. In row (E) we replace our\\nsinusoidal positional encoding with learned positional embeddings [8], and observe nearly identical\\nresults to the base model.\\n7\\nConclusion\\nIn this work, we presented the Transformer, the ﬁrst sequence transduction model based entirely on\\nattention, replacing the recurrent layers most commonly used in encoder-decoder architectures with\\nmulti-headed self-attention.\\nFor translation tasks, the Transformer can be trained signiﬁcantly faster than architectures based\\non recurrent or convolutional layers. On both WMT 2014 English-to-German and WMT 2014\\nEnglish-to-French translation tasks, we achieve a new state of the art. In the former task our best\\nmodel outperforms even all previously reported ensembles.\\nWe are excited about the future of attention-based models and plan to apply them to other tasks. We\\nplan to extend the Transformer to problems involving input and output modalities other than text and\\nto investigate local, restricted attention mechanisms to efﬁciently handle large inputs and outputs\\nsuch as images, audio and video. Making generation less sequential is another research goals of ours.\\nThe code we used to train and evaluate our models is available at https://github.com/\\ntensorflow/tensor2tensor.\\nAcknowledgements\\nWe are grateful to Nal Kalchbrenner and Stephan Gouws for their fruitful\\ncomments, corrections and inspiration.\\n9'),\n",
       " Document(metadata={'producer': 'PDFium', 'creator': 'PDFium', 'creationdate': 'D:20251023172502', 'source': '..\\\\data\\\\pdf_files\\\\attention.pdf', 'file_path': '..\\\\data\\\\pdf_files\\\\attention.pdf', 'total_pages': 11, 'format': 'PDF 1.7', 'title': '', 'author': '', 'subject': '', 'keywords': '', 'moddate': '', 'trapped': '', 'modDate': '', 'creationDate': 'D:20251023172502', 'page': 9}, page_content='References\\n[1] Jimmy Lei Ba, Jamie Ryan Kiros, and Geoffrey E Hinton. Layer normalization. arXiv preprint\\narXiv:1607.06450, 2016.\\n[2] Dzmitry Bahdanau, Kyunghyun Cho, and Yoshua Bengio. Neural machine translation by jointly\\nlearning to align and translate. CoRR, abs/1409.0473, 2014.\\n[3] Denny Britz, Anna Goldie, Minh-Thang Luong, and Quoc V. Le. Massive exploration of neural\\nmachine translation architectures. CoRR, abs/1703.03906, 2017.\\n[4] Jianpeng Cheng, Li Dong, and Mirella Lapata. Long short-term memory-networks for machine\\nreading. arXiv preprint arXiv:1601.06733, 2016.\\n[5] Kyunghyun Cho, Bart van Merrienboer, Caglar Gulcehre, Fethi Bougares, Holger Schwenk,\\nand Yoshua Bengio. Learning phrase representations using rnn encoder-decoder for statistical\\nmachine translation. CoRR, abs/1406.1078, 2014.\\n[6] Francois Chollet. Xception: Deep learning with depthwise separable convolutions. arXiv\\npreprint arXiv:1610.02357, 2016.\\n[7] Junyoung Chung, Çaglar Gülçehre, Kyunghyun Cho, and Yoshua Bengio. Empirical evaluation\\nof gated recurrent neural networks on sequence modeling. CoRR, abs/1412.3555, 2014.\\n[8] Jonas Gehring, Michael Auli, David Grangier, Denis Yarats, and Yann N. Dauphin. Convolu-\\ntional sequence to sequence learning. arXiv preprint arXiv:1705.03122v2, 2017.\\n[9] Alex Graves.\\nGenerating sequences with recurrent neural networks.\\narXiv preprint\\narXiv:1308.0850, 2013.\\n[10] Kaiming He, Xiangyu Zhang, Shaoqing Ren, and Jian Sun. Deep residual learning for im-\\nage recognition. In Proceedings of the IEEE Conference on Computer Vision and Pattern\\nRecognition, pages 770–778, 2016.\\n[11] Sepp Hochreiter, Yoshua Bengio, Paolo Frasconi, and Jürgen Schmidhuber. Gradient ﬂow in\\nrecurrent nets: the difﬁculty of learning long-term dependencies, 2001.\\n[12] Sepp Hochreiter and Jürgen Schmidhuber. Long short-term memory. Neural computation,\\n9(8):1735–1780, 1997.\\n[13] Rafal Jozefowicz, Oriol Vinyals, Mike Schuster, Noam Shazeer, and Yonghui Wu. Exploring\\nthe limits of language modeling. arXiv preprint arXiv:1602.02410, 2016.\\n[14] Łukasz Kaiser and Ilya Sutskever. Neural GPUs learn algorithms. In International Conference\\non Learning Representations (ICLR), 2016.\\n[15] Nal Kalchbrenner, Lasse Espeholt, Karen Simonyan, Aaron van den Oord, Alex Graves, and Ko-\\nray Kavukcuoglu. Neural machine translation in linear time. arXiv preprint arXiv:1610.10099v2,\\n2017.\\n[16] Yoon Kim, Carl Denton, Luong Hoang, and Alexander M. Rush. Structured attention networks.\\nIn International Conference on Learning Representations, 2017.\\n[17] Diederik Kingma and Jimmy Ba. Adam: A method for stochastic optimization. In ICLR, 2015.\\n[18] Oleksii Kuchaiev and Boris Ginsburg. Factorization tricks for LSTM networks. arXiv preprint\\narXiv:1703.10722, 2017.\\n[19] Zhouhan Lin, Minwei Feng, Cicero Nogueira dos Santos, Mo Yu, Bing Xiang, Bowen\\nZhou, and Yoshua Bengio. A structured self-attentive sentence embedding. arXiv preprint\\narXiv:1703.03130, 2017.\\n[20] Samy Bengio Łukasz Kaiser. Can active memory replace attention? In Advances in Neural\\nInformation Processing Systems, (NIPS), 2016.\\n10'),\n",
       " Document(metadata={'producer': 'PDFium', 'creator': 'PDFium', 'creationdate': 'D:20251023172502', 'source': '..\\\\data\\\\pdf_files\\\\attention.pdf', 'file_path': '..\\\\data\\\\pdf_files\\\\attention.pdf', 'total_pages': 11, 'format': 'PDF 1.7', 'title': '', 'author': '', 'subject': '', 'keywords': '', 'moddate': '', 'trapped': '', 'modDate': '', 'creationDate': 'D:20251023172502', 'page': 10}, page_content='[21] Minh-Thang Luong, Hieu Pham, and Christopher D Manning. Effective approaches to attention-\\nbased neural machine translation. arXiv preprint arXiv:1508.04025, 2015.\\n[22] Ankur Parikh, Oscar Täckström, Dipanjan Das, and Jakob Uszkoreit. A decomposable attention\\nmodel. In Empirical Methods in Natural Language Processing, 2016.\\n[23] Romain Paulus, Caiming Xiong, and Richard Socher. A deep reinforced model for abstractive\\nsummarization. arXiv preprint arXiv:1705.04304, 2017.\\n[24] Oﬁr Press and Lior Wolf. Using the output embedding to improve language models. arXiv\\npreprint arXiv:1608.05859, 2016.\\n[25] Rico Sennrich, Barry Haddow, and Alexandra Birch. Neural machine translation of rare words\\nwith subword units. arXiv preprint arXiv:1508.07909, 2015.\\n[26] Noam Shazeer, Azalia Mirhoseini, Krzysztof Maziarz, Andy Davis, Quoc Le, Geoffrey Hinton,\\nand Jeff Dean. Outrageously large neural networks: The sparsely-gated mixture-of-experts\\nlayer. arXiv preprint arXiv:1701.06538, 2017.\\n[27] Nitish Srivastava, Geoffrey E Hinton, Alex Krizhevsky, Ilya Sutskever, and Ruslan Salakhutdi-\\nnov. Dropout: a simple way to prevent neural networks from overﬁtting. Journal of Machine\\nLearning Research, 15(1):1929–1958, 2014.\\n[28] Sainbayar Sukhbaatar, arthur szlam, Jason Weston, and Rob Fergus. End-to-end memory\\nnetworks. In C. Cortes, N. D. Lawrence, D. D. Lee, M. Sugiyama, and R. Garnett, editors,\\nAdvances in Neural Information Processing Systems 28, pages 2440–2448. Curran Associates,\\nInc., 2015.\\n[29] Ilya Sutskever, Oriol Vinyals, and Quoc VV Le. Sequence to sequence learning with neural\\nnetworks. In Advances in Neural Information Processing Systems, pages 3104–3112, 2014.\\n[30] Christian Szegedy, Vincent Vanhoucke, Sergey Ioffe, Jonathon Shlens, and Zbigniew Wojna.\\nRethinking the inception architecture for computer vision. CoRR, abs/1512.00567, 2015.\\n[31] Yonghui Wu, Mike Schuster, Zhifeng Chen, Quoc V Le, Mohammad Norouzi, Wolfgang\\nMacherey, Maxim Krikun, Yuan Cao, Qin Gao, Klaus Macherey, et al. Google’s neural machine\\ntranslation system: Bridging the gap between human and machine translation. arXiv preprint\\narXiv:1609.08144, 2016.\\n[32] Jie Zhou, Ying Cao, Xuguang Wang, Peng Li, and Wei Xu. Deep recurrent models with\\nfast-forward connections for neural machine translation. CoRR, abs/1606.04199, 2016.\\n11'),\n",
       " Document(metadata={'producer': 'pdfTeX-1.40.12', 'creator': 'LaTeX with hyperref package', 'creationdate': '2016-05-11T00:04:54+00:00', 'source': '..\\\\data\\\\pdf_files\\\\yolo.pdf', 'file_path': '..\\\\data\\\\pdf_files\\\\yolo.pdf', 'total_pages': 10, 'format': 'PDF 1.5', 'title': '', 'author': '', 'subject': '', 'keywords': '', 'moddate': '2016-05-11T00:04:54+00:00', 'trapped': '', 'modDate': 'D:20160511000454Z', 'creationDate': 'D:20160511000454Z', 'page': 0}, page_content='You Only Look Once:\\nUniﬁed, Real-Time Object Detection\\nJoseph Redmon∗, Santosh Divvala∗†, Ross Girshick¶, Ali Farhadi∗†\\nUniversity of Washington∗, Allen Institute for AI†, Facebook AI Research¶\\nhttp://pjreddie.com/yolo/\\nAbstract\\nWe present YOLO, a new approach to object detection.\\nPrior work on object detection repurposes classiﬁers to per-\\nform detection. Instead, we frame object detection as a re-\\ngression problem to spatially separated bounding boxes and\\nassociated class probabilities. A single neural network pre-\\ndicts bounding boxes and class probabilities directly from\\nfull images in one evaluation. Since the whole detection\\npipeline is a single network, it can be optimized end-to-end\\ndirectly on detection performance.\\nOur uniﬁed architecture is extremely fast.\\nOur base\\nYOLO model processes images in real-time at 45 frames\\nper second. A smaller version of the network, Fast YOLO,\\nprocesses an astounding 155 frames per second while\\nstill achieving double the mAP of other real-time detec-\\ntors. Compared to state-of-the-art detection systems, YOLO\\nmakes more localization errors but is less likely to predict\\nfalse positives on background. Finally, YOLO learns very\\ngeneral representations of objects. It outperforms other de-\\ntection methods, including DPM and R-CNN, when gener-\\nalizing from natural images to other domains like artwork.\\n1. Introduction\\nHumans glance at an image and instantly know what ob-\\njects are in the image, where they are, and how they inter-\\nact. The human visual system is fast and accurate, allow-\\ning us to perform complex tasks like driving with little con-\\nscious thought. Fast, accurate algorithms for object detec-\\ntion would allow computers to drive cars without special-\\nized sensors, enable assistive devices to convey real-time\\nscene information to human users, and unlock the potential\\nfor general purpose, responsive robotic systems.\\nCurrent detection systems repurpose classiﬁers to per-\\nform detection. To detect an object, these systems take a\\nclassiﬁer for that object and evaluate it at various locations\\nand scales in a test image. Systems like deformable parts\\nmodels (DPM) use a sliding window approach where the\\nclassiﬁer is run at evenly spaced locations over the entire\\nimage [10].\\nMore recent approaches like R-CNN use region proposal\\n1. Resize image.\\n2. Run convolutional network.\\n3. Non-max suppression.\\nDog: 0.30\\nPerson: 0.64\\nHorse: 0.28\\nFigure 1: The YOLO Detection System. Processing images\\nwith YOLO is simple and straightforward. Our system (1) resizes\\nthe input image to 448 × 448, (2) runs a single convolutional net-\\nwork on the image, and (3) thresholds the resulting detections by\\nthe model’s conﬁdence.\\nmethods to ﬁrst generate potential bounding boxes in an im-\\nage and then run a classiﬁer on these proposed boxes. After\\nclassiﬁcation, post-processing is used to reﬁne the bound-\\ning boxes, eliminate duplicate detections, and rescore the\\nboxes based on other objects in the scene [13]. These com-\\nplex pipelines are slow and hard to optimize because each\\nindividual component must be trained separately.\\nWe reframe object detection as a single regression prob-\\nlem, straight from image pixels to bounding box coordi-\\nnates and class probabilities. Using our system, you only\\nlook once (YOLO) at an image to predict what objects are\\npresent and where they are.\\nYOLO is refreshingly simple: see Figure 1.\\nA sin-\\ngle convolutional network simultaneously predicts multi-\\nple bounding boxes and class probabilities for those boxes.\\nYOLO trains on full images and directly optimizes detec-\\ntion performance. This uniﬁed model has several beneﬁts\\nover traditional methods of object detection.\\nFirst, YOLO is extremely fast. Since we frame detection\\nas a regression problem we don’t need a complex pipeline.\\nWe simply run our neural network on a new image at test\\ntime to predict detections. Our base network runs at 45\\nframes per second with no batch processing on a Titan X\\nGPU and a fast version runs at more than 150 fps. This\\nmeans we can process streaming video in real-time with\\nless than 25 milliseconds of latency. Furthermore, YOLO\\nachieves more than twice the mean average precision of\\nother real-time systems. For a demo of our system running\\nin real-time on a webcam please see our project webpage:\\nhttp://pjreddie.com/yolo/.\\nSecond, YOLO reasons globally about the image when\\n1\\narXiv:1506.02640v5  [cs.CV]  9 May 2016'),\n",
       " Document(metadata={'producer': 'pdfTeX-1.40.12', 'creator': 'LaTeX with hyperref package', 'creationdate': '2016-05-11T00:04:54+00:00', 'source': '..\\\\data\\\\pdf_files\\\\yolo.pdf', 'file_path': '..\\\\data\\\\pdf_files\\\\yolo.pdf', 'total_pages': 10, 'format': 'PDF 1.5', 'title': '', 'author': '', 'subject': '', 'keywords': '', 'moddate': '2016-05-11T00:04:54+00:00', 'trapped': '', 'modDate': 'D:20160511000454Z', 'creationDate': 'D:20160511000454Z', 'page': 1}, page_content='making predictions.\\nUnlike sliding window and region\\nproposal-based techniques, YOLO sees the entire image\\nduring training and test time so it implicitly encodes contex-\\ntual information about classes as well as their appearance.\\nFast R-CNN, a top detection method [14], mistakes back-\\nground patches in an image for objects because it can’t see\\nthe larger context. YOLO makes less than half the number\\nof background errors compared to Fast R-CNN.\\nThird, YOLO learns generalizable representations of ob-\\njects. When trained on natural images and tested on art-\\nwork, YOLO outperforms top detection methods like DPM\\nand R-CNN by a wide margin. Since YOLO is highly gen-\\neralizable it is less likely to break down when applied to\\nnew domains or unexpected inputs.\\nYOLO still lags behind state-of-the-art detection systems\\nin accuracy. While it can quickly identify objects in im-\\nages it struggles to precisely localize some objects, espe-\\ncially small ones. We examine these tradeoffs further in our\\nexperiments.\\nAll of our training and testing code is open source. A\\nvariety of pretrained models are also available to download.\\n2. Uniﬁed Detection\\nWe unify the separate components of object detection\\ninto a single neural network. Our network uses features\\nfrom the entire image to predict each bounding box. It also\\npredicts all bounding boxes across all classes for an im-\\nage simultaneously. This means our network reasons glob-\\nally about the full image and all the objects in the image.\\nThe YOLO design enables end-to-end training and real-\\ntime speeds while maintaining high average precision.\\nOur system divides the input image into an S × S grid.\\nIf the center of an object falls into a grid cell, that grid cell\\nis responsible for detecting that object.\\nEach grid cell predicts B bounding boxes and conﬁdence\\nscores for those boxes. These conﬁdence scores reﬂect how\\nconﬁdent the model is that the box contains an object and\\nalso how accurate it thinks the box is that it predicts. For-\\nmally we deﬁne conﬁdence as Pr(Object) ∗IOUtruth\\npred. If no\\nobject exists in that cell, the conﬁdence scores should be\\nzero. Otherwise we want the conﬁdence score to equal the\\nintersection over union (IOU) between the predicted box\\nand the ground truth.\\nEach bounding box consists of 5 predictions: x, y, w, h,\\nand conﬁdence. The (x, y) coordinates represent the center\\nof the box relative to the bounds of the grid cell. The width\\nand height are predicted relative to the whole image. Finally\\nthe conﬁdence prediction represents the IOU between the\\npredicted box and any ground truth box.\\nEach grid cell also predicts C conditional class proba-\\nbilities, Pr(Classi|Object). These probabilities are condi-\\ntioned on the grid cell containing an object. We only predict\\none set of class probabilities per grid cell, regardless of the\\nnumber of boxes B.\\nAt test time we multiply the conditional class probabili-\\nties and the individual box conﬁdence predictions,\\nPr(Classi|Object) ∗Pr(Object) ∗IOUtruth\\npred = Pr(Classi) ∗IOUtruth\\npred\\n(1)\\nwhich gives us class-speciﬁc conﬁdence scores for each\\nbox. These scores encode both the probability of that class\\nappearing in the box and how well the predicted box ﬁts the\\nobject.\\nS × S grid on input\\nBounding boxes + confidence\\nClass probability map\\nFinal detections\\nFigure 2: The Model. Our system models detection as a regres-\\nsion problem. It divides the image into an S × S grid and for each\\ngrid cell predicts B bounding boxes, conﬁdence for those boxes,\\nand C class probabilities. These predictions are encoded as an\\nS × S × (B ∗5 + C) tensor.\\nFor evaluating YOLO on PASCAL VOC, we use S = 7,\\nB = 2. PASCAL VOC has 20 labelled classes so C = 20.\\nOur ﬁnal prediction is a 7 × 7 × 30 tensor.\\n2.1. Network Design\\nWe implement this model as a convolutional neural net-\\nwork and evaluate it on the PASCAL VOC detection dataset\\n[9]. The initial convolutional layers of the network extract\\nfeatures from the image while the fully connected layers\\npredict the output probabilities and coordinates.\\nOur network architecture is inspired by the GoogLeNet\\nmodel for image classiﬁcation [34]. Our network has 24\\nconvolutional layers followed by 2 fully connected layers.\\nInstead of the inception modules used by GoogLeNet, we\\nsimply use 1 × 1 reduction layers followed by 3 × 3 convo-\\nlutional layers, similar to Lin et al [22]. The full network is\\nshown in Figure 3.\\nWe also train a fast version of YOLO designed to push\\nthe boundaries of fast object detection. Fast YOLO uses a\\nneural network with fewer convolutional layers (9 instead\\nof 24) and fewer ﬁlters in those layers. Other than the size\\nof the network, all training and testing parameters are the\\nsame between YOLO and Fast YOLO.'),\n",
       " Document(metadata={'producer': 'pdfTeX-1.40.12', 'creator': 'LaTeX with hyperref package', 'creationdate': '2016-05-11T00:04:54+00:00', 'source': '..\\\\data\\\\pdf_files\\\\yolo.pdf', 'file_path': '..\\\\data\\\\pdf_files\\\\yolo.pdf', 'total_pages': 10, 'format': 'PDF 1.5', 'title': '', 'author': '', 'subject': '', 'keywords': '', 'moddate': '2016-05-11T00:04:54+00:00', 'trapped': '', 'modDate': 'D:20160511000454Z', 'creationDate': 'D:20160511000454Z', 'page': 2}, page_content='448\\n448\\n3\\n7\\n7\\nConv. Layer\\n7x7x64-s-2\\nMaxpool Layer\\n2x2-s-2\\n3\\n3\\n112\\n112\\n192\\n3\\n3\\n56\\n56\\n256\\nConn. Layer\\n4096\\nConn. Layer\\nConv. Layer\\n3x3x192\\nMaxpool Layer\\n2x2-s-2\\nConv. Layers\\n1x1x128\\n3x3x256\\n1x1x256\\n3x3x512\\nMaxpool Layer\\n2x2-s-2\\n3\\n3\\n28\\n28\\n512\\nConv. Layers\\n1x1x256\\n3x3x512\\n1x1x512\\n3x3x1024\\nMaxpool Layer\\n2x2-s-2\\n3\\n3\\n14\\n14\\n1024\\nConv. Layers\\n1x1x512\\n3x3x1024\\n3x3x1024\\n3x3x1024-s-2\\n3\\n3\\n7\\n7\\n1024\\n7\\n7\\n1024\\n7\\n7\\n30\\n} ×4\\n} ×2\\nConv. Layers\\n3x3x1024\\n3x3x1024\\nFigure 3: The Architecture. Our detection network has 24 convolutional layers followed by 2 fully connected layers. Alternating 1 × 1\\nconvolutional layers reduce the features space from preceding layers. We pretrain the convolutional layers on the ImageNet classiﬁcation\\ntask at half the resolution (224 × 224 input image) and then double the resolution for detection.\\nThe ﬁnal output of our network is the 7 × 7 × 30 tensor\\nof predictions.\\n2.2. Training\\nWe pretrain our convolutional layers on the ImageNet\\n1000-class competition dataset [30]. For pretraining we use\\nthe ﬁrst 20 convolutional layers from Figure 3 followed by a\\naverage-pooling layer and a fully connected layer. We train\\nthis network for approximately a week and achieve a single\\ncrop top-5 accuracy of 88% on the ImageNet 2012 valida-\\ntion set, comparable to the GoogLeNet models in Caffe’s\\nModel Zoo [24]. We use the Darknet framework for all\\ntraining and inference [26].\\nWe then convert the model to perform detection. Ren et\\nal. show that adding both convolutional and connected lay-\\ners to pretrained networks can improve performance [29].\\nFollowing their example, we add four convolutional lay-\\ners and two fully connected layers with randomly initialized\\nweights. Detection often requires ﬁne-grained visual infor-\\nmation so we increase the input resolution of the network\\nfrom 224 × 224 to 448 × 448.\\nOur ﬁnal layer predicts both class probabilities and\\nbounding box coordinates. We normalize the bounding box\\nwidth and height by the image width and height so that they\\nfall between 0 and 1. We parametrize the bounding box x\\nand y coordinates to be offsets of a particular grid cell loca-\\ntion so they are also bounded between 0 and 1.\\nWe use a linear activation function for the ﬁnal layer and\\nall other layers use the following leaky rectiﬁed linear acti-\\nvation:\\nφ(x) =\\n(\\nx,\\nif x > 0\\n0.1x,\\notherwise\\n(2)\\nWe optimize for sum-squared error in the output of our\\nmodel. We use sum-squared error because it is easy to op-\\ntimize, however it does not perfectly align with our goal of\\nmaximizing average precision. It weights localization er-\\nror equally with classiﬁcation error which may not be ideal.\\nAlso, in every image many grid cells do not contain any\\nobject. This pushes the “conﬁdence” scores of those cells\\ntowards zero, often overpowering the gradient from cells\\nthat do contain objects. This can lead to model instability,\\ncausing training to diverge early on.\\nTo remedy this, we increase the loss from bounding box\\ncoordinate predictions and decrease the loss from conﬁ-\\ndence predictions for boxes that don’t contain objects. We\\nuse two parameters, λcoord and λnoobj to accomplish this. We\\nset λcoord = 5 and λnoobj = .5.\\nSum-squared error also equally weights errors in large\\nboxes and small boxes. Our error metric should reﬂect that\\nsmall deviations in large boxes matter less than in small\\nboxes. To partially address this we predict the square root\\nof the bounding box width and height instead of the width\\nand height directly.\\nYOLO predicts multiple bounding boxes per grid cell.\\nAt training time we only want one bounding box predictor\\nto be responsible for each object. We assign one predictor\\nto be “responsible” for predicting an object based on which\\nprediction has the highest current IOU with the ground\\ntruth. This leads to specialization between the bounding box\\npredictors. Each predictor gets better at predicting certain\\nsizes, aspect ratios, or classes of object, improving overall\\nrecall.\\nDuring training we optimize the following, multi-part'),\n",
       " Document(metadata={'producer': 'pdfTeX-1.40.12', 'creator': 'LaTeX with hyperref package', 'creationdate': '2016-05-11T00:04:54+00:00', 'source': '..\\\\data\\\\pdf_files\\\\yolo.pdf', 'file_path': '..\\\\data\\\\pdf_files\\\\yolo.pdf', 'total_pages': 10, 'format': 'PDF 1.5', 'title': '', 'author': '', 'subject': '', 'keywords': '', 'moddate': '2016-05-11T00:04:54+00:00', 'trapped': '', 'modDate': 'D:20160511000454Z', 'creationDate': 'D:20160511000454Z', 'page': 3}, page_content='loss function:\\nλcoord\\nS2\\nX\\ni=0\\nB\\nX\\nj=0\\n1obj\\nij\\nh\\n(xi −ˆxi)2 + (yi −ˆyi)2i\\n+ λcoord\\nS2\\nX\\ni=0\\nB\\nX\\nj=0\\n1obj\\nij\\n\\x14\\x10√wi −\\np\\nˆ\\nwi\\n\\x112 +\\n\\x12p\\nhi −\\nq\\nˆhi\\n\\x132\\x15\\n+\\nS2\\nX\\ni=0\\nB\\nX\\nj=0\\n1obj\\nij\\n\\x10\\nCi −ˆ\\nCi\\n\\x112\\n+ λnoobj\\nS2\\nX\\ni=0\\nB\\nX\\nj=0\\n1noobj\\nij\\n\\x10\\nCi −ˆ\\nCi\\n\\x112\\n+\\nS2\\nX\\ni=0\\n1obj\\ni\\nX\\nc∈classes\\n(pi(c) −ˆpi(c))2\\n(3)\\nwhere 1obj\\ni\\ndenotes if object appears in cell i and 1obj\\nij de-\\nnotes that the jth bounding box predictor in cell i is “re-\\nsponsible” for that prediction.\\nNote that the loss function only penalizes classiﬁcation\\nerror if an object is present in that grid cell (hence the con-\\nditional class probability discussed earlier). It also only pe-\\nnalizes bounding box coordinate error if that predictor is\\n“responsible” for the ground truth box (i.e. has the highest\\nIOU of any predictor in that grid cell).\\nWe train the network for about 135 epochs on the train-\\ning and validation data sets from PASCAL VOC 2007 and\\n2012. When testing on 2012 we also include the VOC 2007\\ntest data for training. Throughout training we use a batch\\nsize of 64, a momentum of 0.9 and a decay of 0.0005.\\nOur learning rate schedule is as follows: For the ﬁrst\\nepochs we slowly raise the learning rate from 10−3 to 10−2.\\nIf we start at a high learning rate our model often diverges\\ndue to unstable gradients. We continue training with 10−2\\nfor 75 epochs, then 10−3 for 30 epochs, and ﬁnally 10−4\\nfor 30 epochs.\\nTo avoid overﬁtting we use dropout and extensive data\\naugmentation. A dropout layer with rate = .5 after the ﬁrst\\nconnected layer prevents co-adaptation between layers [18].\\nFor data augmentation we introduce random scaling and\\ntranslations of up to 20% of the original image size. We\\nalso randomly adjust the exposure and saturation of the im-\\nage by up to a factor of 1.5 in the HSV color space.\\n2.3. Inference\\nJust like in training, predicting detections for a test image\\nonly requires one network evaluation. On PASCAL VOC the\\nnetwork predicts 98 bounding boxes per image and class\\nprobabilities for each box. YOLO is extremely fast at test\\ntime since it only requires a single network evaluation, un-\\nlike classiﬁer-based methods.\\nThe grid design enforces spatial diversity in the bound-\\ning box predictions. Often it is clear which grid cell an\\nobject falls in to and the network only predicts one box for\\neach object. However, some large objects or objects near\\nthe border of multiple cells can be well localized by multi-\\nple cells. Non-maximal suppression can be used to ﬁx these\\nmultiple detections. While not critical to performance as it\\nis for R-CNN or DPM, non-maximal suppression adds 2-\\n3% in mAP.\\n2.4. Limitations of YOLO\\nYOLO imposes strong spatial constraints on bounding\\nbox predictions since each grid cell only predicts two boxes\\nand can only have one class. This spatial constraint lim-\\nits the number of nearby objects that our model can pre-\\ndict. Our model struggles with small objects that appear in\\ngroups, such as ﬂocks of birds.\\nSince our model learns to predict bounding boxes from\\ndata, it struggles to generalize to objects in new or unusual\\naspect ratios or conﬁgurations. Our model also uses rela-\\ntively coarse features for predicting bounding boxes since\\nour architecture has multiple downsampling layers from the\\ninput image.\\nFinally, while we train on a loss function that approxi-\\nmates detection performance, our loss function treats errors\\nthe same in small bounding boxes versus large bounding\\nboxes. A small error in a large box is generally benign but a\\nsmall error in a small box has a much greater effect on IOU.\\nOur main source of error is incorrect localizations.\\n3. Comparison to Other Detection Systems\\nObject detection is a core problem in computer vision.\\nDetection pipelines generally start by extracting a set of\\nrobust features from input images (Haar [25], SIFT [23],\\nHOG [4], convolutional features [6]).\\nThen, classiﬁers\\n[36, 21, 13, 10] or localizers [1, 32] are used to identify\\nobjects in the feature space. These classiﬁers or localizers\\nare run either in sliding window fashion over the whole im-\\nage or on some subset of regions in the image [35, 15, 39].\\nWe compare the YOLO detection system to several top de-\\ntection frameworks, highlighting key similarities and differ-\\nences.\\nDeformable parts models. Deformable parts models\\n(DPM) use a sliding window approach to object detection\\n[10]. DPM uses a disjoint pipeline to extract static features,\\nclassify regions, predict bounding boxes for high scoring\\nregions, etc. Our system replaces all of these disparate parts\\nwith a single convolutional neural network. The network\\nperforms feature extraction, bounding box prediction, non-\\nmaximal suppression, and contextual reasoning all concur-\\nrently. Instead of static features, the network trains the fea-\\ntures in-line and optimizes them for the detection task. Our\\nuniﬁed architecture leads to a faster, more accurate model\\nthan DPM.\\nR-CNN. R-CNN and its variants use region proposals in-\\nstead of sliding windows to ﬁnd objects in images. Selective'),\n",
       " Document(metadata={'producer': 'pdfTeX-1.40.12', 'creator': 'LaTeX with hyperref package', 'creationdate': '2016-05-11T00:04:54+00:00', 'source': '..\\\\data\\\\pdf_files\\\\yolo.pdf', 'file_path': '..\\\\data\\\\pdf_files\\\\yolo.pdf', 'total_pages': 10, 'format': 'PDF 1.5', 'title': '', 'author': '', 'subject': '', 'keywords': '', 'moddate': '2016-05-11T00:04:54+00:00', 'trapped': '', 'modDate': 'D:20160511000454Z', 'creationDate': 'D:20160511000454Z', 'page': 4}, page_content='Search [35] generates potential bounding boxes, a convolu-\\ntional network extracts features, an SVM scores the boxes, a\\nlinear model adjusts the bounding boxes, and non-max sup-\\npression eliminates duplicate detections. Each stage of this\\ncomplex pipeline must be precisely tuned independently\\nand the resulting system is very slow, taking more than 40\\nseconds per image at test time [14].\\nYOLO shares some similarities with R-CNN. Each grid\\ncell proposes potential bounding boxes and scores those\\nboxes using convolutional features. However, our system\\nputs spatial constraints on the grid cell proposals which\\nhelps mitigate multiple detections of the same object. Our\\nsystem also proposes far fewer bounding boxes, only 98\\nper image compared to about 2000 from Selective Search.\\nFinally, our system combines these individual components\\ninto a single, jointly optimized model.\\nOther Fast Detectors Fast and Faster R-CNN focus on\\nspeeding up the R-CNN framework by sharing computa-\\ntion and using neural networks to propose regions instead\\nof Selective Search [14] [28]. While they offer speed and\\naccuracy improvements over R-CNN, both still fall short of\\nreal-time performance.\\nMany research efforts focus on speeding up the DPM\\npipeline [31] [38] [5]. They speed up HOG computation,\\nuse cascades, and push computation to GPUs. However,\\nonly 30Hz DPM [31] actually runs in real-time.\\nInstead of trying to optimize individual components of\\na large detection pipeline, YOLO throws out the pipeline\\nentirely and is fast by design.\\nDetectors for single classes like faces or people can be\\nhighly optimized since they have to deal with much less\\nvariation [37]. YOLO is a general purpose detector that\\nlearns to detect a variety of objects simultaneously.\\nDeep MultiBox. Unlike R-CNN, Szegedy et al. train a\\nconvolutional neural network to predict regions of interest\\n[8] instead of using Selective Search. MultiBox can also\\nperform single object detection by replacing the conﬁdence\\nprediction with a single class prediction. However, Multi-\\nBox cannot perform general object detection and is still just\\na piece in a larger detection pipeline, requiring further im-\\nage patch classiﬁcation. Both YOLO and MultiBox use a\\nconvolutional network to predict bounding boxes in an im-\\nage but YOLO is a complete detection system.\\nOverFeat. Sermanet et al. train a convolutional neural\\nnetwork to perform localization and adapt that localizer to\\nperform detection [32]. OverFeat efﬁciently performs slid-\\ning window detection but it is still a disjoint system. Over-\\nFeat optimizes for localization, not detection performance.\\nLike DPM, the localizer only sees local information when\\nmaking a prediction. OverFeat cannot reason about global\\ncontext and thus requires signiﬁcant post-processing to pro-\\nduce coherent detections.\\nMultiGrasp. Our work is similar in design to work on\\ngrasp detection by Redmon et al [27]. Our grid approach to\\nbounding box prediction is based on the MultiGrasp system\\nfor regression to grasps. However, grasp detection is a much\\nsimpler task than object detection. MultiGrasp only needs\\nto predict a single graspable region for an image containing\\none object. It doesn’t have to estimate the size, location,\\nor boundaries of the object or predict it’s class, only ﬁnd a\\nregion suitable for grasping. YOLO predicts both bounding\\nboxes and class probabilities for multiple objects of multi-\\nple classes in an image.\\n4. Experiments\\nFirst we compare YOLO with other real-time detection\\nsystems on PASCAL VOC 2007. To understand the differ-\\nences between YOLO and R-CNN variants we explore the\\nerrors on VOC 2007 made by YOLO and Fast R-CNN, one\\nof the highest performing versions of R-CNN [14]. Based\\non the different error proﬁles we show that YOLO can be\\nused to rescore Fast R-CNN detections and reduce the er-\\nrors from background false positives, giving a signiﬁcant\\nperformance boost. We also present VOC 2012 results and\\ncompare mAP to current state-of-the-art methods. Finally,\\nwe show that YOLO generalizes to new domains better than\\nother detectors on two artwork datasets.\\n4.1. Comparison to Other Real-Time Systems\\nMany research efforts in object detection focus on mak-\\ning standard detection pipelines fast. [5] [38] [31] [14] [17]\\n[28] However, only Sadeghi et al. actually produce a de-\\ntection system that runs in real-time (30 frames per second\\nor better) [31]. We compare YOLO to their GPU imple-\\nmentation of DPM which runs either at 30Hz or 100Hz.\\nWhile the other efforts don’t reach the real-time milestone\\nwe also compare their relative mAP and speed to examine\\nthe accuracy-performance tradeoffs available in object de-\\ntection systems.\\nFast YOLO is the fastest object detection method on\\nPASCAL; as far as we know, it is the fastest extant object\\ndetector. With 52.7% mAP, it is more than twice as accurate\\nas prior work on real-time detection. YOLO pushes mAP to\\n63.4% while still maintaining real-time performance.\\nWe also train YOLO using VGG-16. This model is more\\naccurate but also signiﬁcantly slower than YOLO. It is use-\\nful for comparison to other detection systems that rely on\\nVGG-16 but since it is slower than real-time the rest of the\\npaper focuses on our faster models.\\nFastest DPM effectively speeds up DPM without sacri-\\nﬁcing much mAP but it still misses real-time performance\\nby a factor of 2 [38]. It also is limited by DPM’s relatively\\nlow accuracy on detection compared to neural network ap-\\nproaches.\\nR-CNN minus R replaces Selective Search with static\\nbounding box proposals [20]. While it is much faster than'),\n",
       " Document(metadata={'producer': 'pdfTeX-1.40.12', 'creator': 'LaTeX with hyperref package', 'creationdate': '2016-05-11T00:04:54+00:00', 'source': '..\\\\data\\\\pdf_files\\\\yolo.pdf', 'file_path': '..\\\\data\\\\pdf_files\\\\yolo.pdf', 'total_pages': 10, 'format': 'PDF 1.5', 'title': '', 'author': '', 'subject': '', 'keywords': '', 'moddate': '2016-05-11T00:04:54+00:00', 'trapped': '', 'modDate': 'D:20160511000454Z', 'creationDate': 'D:20160511000454Z', 'page': 5}, page_content='Real-Time Detectors\\nTrain\\nmAP\\nFPS\\n100Hz DPM [31]\\n2007\\n16.0\\n100\\n30Hz DPM [31]\\n2007\\n26.1\\n30\\nFast YOLO\\n2007+2012\\n52.7\\n155\\nYOLO\\n2007+2012\\n63.4\\n45\\nLess Than Real-Time\\nFastest DPM [38]\\n2007\\n30.4\\n15\\nR-CNN Minus R [20]\\n2007\\n53.5\\n6\\nFast R-CNN [14]\\n2007+2012\\n70.0\\n0.5\\nFaster R-CNN VGG-16[28]\\n2007+2012\\n73.2\\n7\\nFaster R-CNN ZF [28]\\n2007+2012\\n62.1\\n18\\nYOLO VGG-16\\n2007+2012\\n66.4\\n21\\nTable 1: Real-Time Systems on PASCAL VOC 2007. Compar-\\ning the performance and speed of fast detectors. Fast YOLO is\\nthe fastest detector on record for PASCAL VOC detection and is\\nstill twice as accurate as any other real-time detector. YOLO is\\n10 mAP more accurate than the fast version while still well above\\nreal-time in speed.\\nR-CNN, it still falls short of real-time and takes a signiﬁcant\\naccuracy hit from not having good proposals.\\nFast R-CNN speeds up the classiﬁcation stage of R-CNN\\nbut it still relies on selective search which can take around\\n2 seconds per image to generate bounding box proposals.\\nThus it has high mAP but at 0.5 fps it is still far from real-\\ntime.\\nThe recent Faster R-CNN replaces selective search with\\na neural network to propose bounding boxes, similar to\\nSzegedy et al. [8] In our tests, their most accurate model\\nachieves 7 fps while a smaller, less accurate one runs at\\n18 fps. The VGG-16 version of Faster R-CNN is 10 mAP\\nhigher but is also 6 times slower than YOLO. The Zeiler-\\nFergus Faster R-CNN is only 2.5 times slower than YOLO\\nbut is also less accurate.\\n4.2. VOC 2007 Error Analysis\\nTo further examine the differences between YOLO and\\nstate-of-the-art detectors, we look at a detailed breakdown\\nof results on VOC 2007. We compare YOLO to Fast R-\\nCNN since Fast R-CNN is one of the highest performing\\ndetectors on PASCAL and it’s detections are publicly avail-\\nable.\\nWe use the methodology and tools of Hoiem et al. [19]\\nFor each category at test time we look at the top N predic-\\ntions for that category. Each prediction is either correct or\\nit is classiﬁed based on the type of error:\\n• Correct: correct class and IOU > .5\\n• Localization: correct class, .1 < IOU < .5\\n• Similar: class is similar, IOU > .1\\nCorrect: 71.6%\\nCorrect: 65.5%\\nLoc: 8.6%\\nSim: 4.3%\\nOther: 1.9%\\nBackground: 13.6%\\nLoc: 19.0%\\nSim: 6.75%\\nOther: 4.0%\\nBackground: 4.75%\\nFast R-CNN\\nYOLO\\nFigure 4: Error Analysis: Fast R-CNN vs.\\nYOLO These\\ncharts show the percentage of localization and background errors\\nin the top N detections for various categories (N = # objects in that\\ncategory).\\n• Other: class is wrong, IOU > .1\\n• Background: IOU < .1 for any object\\nFigure 4 shows the breakdown of each error type aver-\\naged across all 20 classes.\\nYOLO struggles to localize objects correctly. Localiza-\\ntion errors account for more of YOLO’s errors than all other\\nsources combined. Fast R-CNN makes much fewer local-\\nization errors but far more background errors. 13.6% of\\nit’s top detections are false positives that don’t contain any\\nobjects. Fast R-CNN is almost 3x more likely to predict\\nbackground detections than YOLO.\\n4.3. Combining Fast R-CNN and YOLO\\nYOLO makes far fewer background mistakes than Fast\\nR-CNN. By using YOLO to eliminate background detec-\\ntions from Fast R-CNN we get a signiﬁcant boost in perfor-\\nmance. For every bounding box that R-CNN predicts we\\ncheck to see if YOLO predicts a similar box. If it does, we\\ngive that prediction a boost based on the probability pre-\\ndicted by YOLO and the overlap between the two boxes.\\nThe best Fast R-CNN model achieves a mAP of 71.8%\\non the VOC 2007 test set. When combined with YOLO, its\\nmAP\\nCombined\\nGain\\nFast R-CNN\\n71.8\\n-\\n-\\nFast R-CNN (2007 data)\\n66.9\\n72.4\\n.6\\nFast R-CNN (VGG-M)\\n59.2\\n72.4\\n.6\\nFast R-CNN (CaffeNet)\\n57.1\\n72.1\\n.3\\nYOLO\\n63.4\\n75.0\\n3.2\\nTable 2: Model combination experiments on VOC 2007. We\\nexamine the effect of combining various models with the best ver-\\nsion of Fast R-CNN. Other versions of Fast R-CNN provide only\\na small beneﬁt while YOLO provides a signiﬁcant performance\\nboost.'),\n",
       " Document(metadata={'producer': 'pdfTeX-1.40.12', 'creator': 'LaTeX with hyperref package', 'creationdate': '2016-05-11T00:04:54+00:00', 'source': '..\\\\data\\\\pdf_files\\\\yolo.pdf', 'file_path': '..\\\\data\\\\pdf_files\\\\yolo.pdf', 'total_pages': 10, 'format': 'PDF 1.5', 'title': '', 'author': '', 'subject': '', 'keywords': '', 'moddate': '2016-05-11T00:04:54+00:00', 'trapped': '', 'modDate': 'D:20160511000454Z', 'creationDate': 'D:20160511000454Z', 'page': 6}, page_content='VOC 2012 test\\nmAP\\naero\\nbike\\nbird\\nboat\\nbottle bus\\ncar\\ncat\\nchair\\ncow\\ntable\\ndog\\nhorse mbike personplant sheep sofa\\ntrain\\ntv\\nMR CNN MORE DATA [11]\\n73.9\\n85.5\\n82.9\\n76.6\\n57.8\\n62.7\\n79.4\\n77.2\\n86.6\\n55.0\\n79.1\\n62.2\\n87.0\\n83.4\\n84.7\\n78.9\\n45.3\\n73.4\\n65.8\\n80.3\\n74.0\\nHyperNet VGG\\n71.4\\n84.2\\n78.5\\n73.6\\n55.6\\n53.7\\n78.7\\n79.8\\n87.7\\n49.6\\n74.9\\n52.1\\n86.0\\n81.7\\n83.3\\n81.8\\n48.6\\n73.5\\n59.4\\n79.9\\n65.7\\nHyperNet SP\\n71.3\\n84.1\\n78.3\\n73.3\\n55.5\\n53.6\\n78.6\\n79.6\\n87.5\\n49.5\\n74.9\\n52.1\\n85.6\\n81.6\\n83.2\\n81.6\\n48.4\\n73.2\\n59.3\\n79.7\\n65.6\\nFast R-CNN + YOLO\\n70.7\\n83.4\\n78.5\\n73.5\\n55.8\\n43.4\\n79.1\\n73.1\\n89.4\\n49.4\\n75.5\\n57.0\\n87.5\\n80.9\\n81.0\\n74.7\\n41.8\\n71.5\\n68.5\\n82.1\\n67.2\\nMR CNN S CNN [11]\\n70.7\\n85.0\\n79.6\\n71.5\\n55.3\\n57.7\\n76.0\\n73.9\\n84.6\\n50.5\\n74.3\\n61.7\\n85.5\\n79.9\\n81.7\\n76.4\\n41.0\\n69.0\\n61.2\\n77.7\\n72.1\\nFaster R-CNN [28]\\n70.4\\n84.9\\n79.8\\n74.3\\n53.9\\n49.8\\n77.5\\n75.9\\n88.5\\n45.6\\n77.1\\n55.3\\n86.9\\n81.7\\n80.9\\n79.6\\n40.1\\n72.6\\n60.9\\n81.2\\n61.5\\nDEEP ENS COCO\\n70.1\\n84.0\\n79.4\\n71.6\\n51.9\\n51.1\\n74.1\\n72.1\\n88.6\\n48.3\\n73.4\\n57.8\\n86.1\\n80.0\\n80.7\\n70.4\\n46.6\\n69.6\\n68.8\\n75.9\\n71.4\\nNoC [29]\\n68.8\\n82.8\\n79.0\\n71.6\\n52.3\\n53.7\\n74.1\\n69.0\\n84.9\\n46.9\\n74.3\\n53.1\\n85.0\\n81.3\\n79.5\\n72.2\\n38.9\\n72.4\\n59.5\\n76.7\\n68.1\\nFast R-CNN [14]\\n68.4\\n82.3\\n78.4\\n70.8\\n52.3\\n38.7\\n77.8\\n71.6\\n89.3\\n44.2\\n73.0\\n55.0\\n87.5\\n80.5\\n80.8\\n72.0\\n35.1\\n68.3\\n65.7\\n80.4\\n64.2\\nUMICH FGS STRUCT\\n66.4\\n82.9\\n76.1\\n64.1\\n44.6\\n49.4\\n70.3\\n71.2\\n84.6\\n42.7\\n68.6\\n55.8\\n82.7\\n77.1\\n79.9\\n68.7\\n41.4\\n69.0\\n60.0\\n72.0\\n66.2\\nNUS NIN C2000 [7]\\n63.8\\n80.2\\n73.8\\n61.9\\n43.7\\n43.0\\n70.3\\n67.6\\n80.7\\n41.9\\n69.7\\n51.7\\n78.2\\n75.2\\n76.9\\n65.1\\n38.6\\n68.3\\n58.0\\n68.7\\n63.3\\nBabyLearning [7]\\n63.2\\n78.0\\n74.2\\n61.3\\n45.7\\n42.7\\n68.2\\n66.8\\n80.2\\n40.6\\n70.0\\n49.8\\n79.0\\n74.5\\n77.9\\n64.0\\n35.3\\n67.9\\n55.7\\n68.7\\n62.6\\nNUS NIN\\n62.4\\n77.9\\n73.1\\n62.6\\n39.5\\n43.3\\n69.1\\n66.4\\n78.9\\n39.1\\n68.1\\n50.0\\n77.2\\n71.3\\n76.1\\n64.7\\n38.4\\n66.9\\n56.2\\n66.9\\n62.7\\nR-CNN VGG BB [13]\\n62.4\\n79.6\\n72.7\\n61.9\\n41.2\\n41.9\\n65.9\\n66.4\\n84.6\\n38.5\\n67.2\\n46.7\\n82.0\\n74.8\\n76.0\\n65.2\\n35.6\\n65.4\\n54.2\\n67.4\\n60.3\\nR-CNN VGG [13]\\n59.2\\n76.8\\n70.9\\n56.6\\n37.5\\n36.9\\n62.9\\n63.6\\n81.1\\n35.7\\n64.3\\n43.9\\n80.4\\n71.6\\n74.0\\n60.0\\n30.8\\n63.4\\n52.0\\n63.5\\n58.7\\nYOLO\\n57.9\\n77.0\\n67.2\\n57.7\\n38.3\\n22.7\\n68.3\\n55.9\\n81.4\\n36.2\\n60.8\\n48.5\\n77.2\\n72.3\\n71.3\\n63.5\\n28.9\\n52.2\\n54.8\\n73.9\\n50.8\\nFeature Edit [33]\\n56.3\\n74.6\\n69.1\\n54.4\\n39.1\\n33.1\\n65.2\\n62.7\\n69.7\\n30.8\\n56.0\\n44.6\\n70.0\\n64.4\\n71.1\\n60.2\\n33.3\\n61.3\\n46.4\\n61.7\\n57.8\\nR-CNN BB [13]\\n53.3\\n71.8\\n65.8\\n52.0\\n34.1\\n32.6\\n59.6\\n60.0\\n69.8\\n27.6\\n52.0\\n41.7\\n69.6\\n61.3\\n68.3\\n57.8\\n29.6\\n57.8\\n40.9\\n59.3\\n54.1\\nSDS [16]\\n50.7\\n69.7\\n58.4\\n48.5\\n28.3\\n28.8\\n61.3\\n57.5\\n70.8\\n24.1\\n50.7\\n35.9\\n64.9\\n59.1\\n65.8\\n57.1\\n26.0\\n58.8\\n38.6\\n58.9\\n50.7\\nR-CNN [13]\\n49.6\\n68.1\\n63.8\\n46.1\\n29.4\\n27.9\\n56.6\\n57.0\\n65.9\\n26.5\\n48.7\\n39.5\\n66.2\\n57.3\\n65.4\\n53.2\\n26.2\\n54.5\\n38.1\\n50.6\\n51.6\\nTable 3: PASCAL VOC 2012 Leaderboard. YOLO compared with the full comp4 (outside data allowed) public leaderboard as of\\nNovember 6th, 2015. Mean average precision and per-class average precision are shown for a variety of detection methods. YOLO is the\\nonly real-time detector. Fast R-CNN + YOLO is the forth highest scoring method, with a 2.3% boost over Fast R-CNN.\\nmAP increases by 3.2% to 75.0%. We also tried combining\\nthe top Fast R-CNN model with several other versions of\\nFast R-CNN. Those ensembles produced small increases in\\nmAP between .3 and .6%, see Table 2 for details.\\nThe boost from YOLO is not simply a byproduct of\\nmodel ensembling since there is little beneﬁt from combin-\\ning different versions of Fast R-CNN. Rather, it is precisely\\nbecause YOLO makes different kinds of mistakes at test\\ntime that it is so effective at boosting Fast R-CNN’s per-\\nformance.\\nUnfortunately, this combination doesn’t beneﬁt from the\\nspeed of YOLO since we run each model seperately and\\nthen combine the results. However, since YOLO is so fast\\nit doesn’t add any signiﬁcant computational time compared\\nto Fast R-CNN.\\n4.4. VOC 2012 Results\\nOn the VOC 2012 test set, YOLO scores 57.9% mAP.\\nThis is lower than the current state of the art, closer to\\nthe original R-CNN using VGG-16, see Table 3. Our sys-\\ntem struggles with small objects compared to its closest\\ncompetitors.\\nOn categories like bottle, sheep, and\\ntv/monitor YOLO scores 8-10% lower than R-CNN or\\nFeature Edit. However, on other categories like cat and\\ntrain YOLO achieves higher performance.\\nOur combined Fast R-CNN + YOLO model is one of the\\nhighest performing detection methods. Fast R-CNN gets\\na 2.3% improvement from the combination with YOLO,\\nboosting it 5 spots up on the public leaderboard.\\n4.5. Generalizability: Person Detection in Artwork\\nAcademic datasets for object detection draw the training\\nand testing data from the same distribution. In real-world\\napplications it is hard to predict all possible use cases and\\nthe test data can diverge from what the system has seen be-\\nfore [3]. We compare YOLO to other detection systems on\\nthe Picasso Dataset [12] and the People-Art Dataset [3], two\\ndatasets for testing person detection on artwork.\\nFigure 5 shows comparative performance between\\nYOLO and other detection methods. For reference, we give\\nVOC 2007 detection AP on person where all models are\\ntrained only on VOC 2007 data. On Picasso models are\\ntrained on VOC 2012 while on People-Art they are trained\\non VOC 2010.\\nR-CNN has high AP on VOC 2007. However, R-CNN\\ndrops off considerably when applied to artwork. R-CNN\\nuses Selective Search for bounding box proposals which is\\ntuned for natural images. The classiﬁer step in R-CNN only\\nsees small regions and needs good proposals.\\nDPM maintains its AP well when applied to artwork.\\nPrior work theorizes that DPM performs well because it has\\nstrong spatial models of the shape and layout of objects.\\nThough DPM doesn’t degrade as much as R-CNN, it starts\\nfrom a lower AP.\\nYOLO has good performance on VOC 2007 and its AP\\ndegrades less than other methods when applied to artwork.\\nLike DPM, YOLO models the size and shape of objects,\\nas well as relationships between objects and where objects\\ncommonly appear. Artwork and natural images are very\\ndifferent on a pixel level but they are similar in terms of\\nthe size and shape of objects, thus YOLO can still predict\\ngood bounding boxes and detections.\\n5. Real-Time Detection In The Wild\\nYOLO is a fast, accurate object detector, making it ideal\\nfor computer vision applications. We connect YOLO to a\\nwebcam and verify that it maintains real-time performance,'),\n",
       " Document(metadata={'producer': 'pdfTeX-1.40.12', 'creator': 'LaTeX with hyperref package', 'creationdate': '2016-05-11T00:04:54+00:00', 'source': '..\\\\data\\\\pdf_files\\\\yolo.pdf', 'file_path': '..\\\\data\\\\pdf_files\\\\yolo.pdf', 'total_pages': 10, 'format': 'PDF 1.5', 'title': '', 'author': '', 'subject': '', 'keywords': '', 'moddate': '2016-05-11T00:04:54+00:00', 'trapped': '', 'modDate': 'D:20160511000454Z', 'creationDate': 'D:20160511000454Z', 'page': 7}, page_content='Poselets\\nRCNN\\nD&T\\nHumans\\nDPM\\nYOLO\\n(a) Picasso Dataset precision-recall curves.\\nVOC 2007\\nPicasso\\nPeople-Art\\nAP\\nAP\\nBest F1\\nAP\\nYOLO\\n59.2\\n53.3\\n0.590\\n45\\nR-CNN\\n54.2\\n10.4\\n0.226\\n26\\nDPM\\n43.2\\n37.8\\n0.458\\n32\\nPoselets [2]\\n36.5\\n17.8\\n0.271\\nD&T [4]\\n-\\n1.9\\n0.051\\n(b) Quantitative results on the VOC 2007, Picasso, and People-Art Datasets.\\nThe Picasso Dataset evaluates on both AP and best F1 score.\\nFigure 5: Generalization results on Picasso and People-Art datasets.\\nFigure 6: Qualitative Results. YOLO running on sample artwork and natural images from the internet. It is mostly accurate although it\\ndoes think one person is an airplane.\\nincluding the time to fetch images from the camera and dis-\\nplay the detections.\\nThe resulting system is interactive and engaging. While\\nYOLO processes images individually, when attached to a\\nwebcam it functions like a tracking system, detecting ob-\\njects as they move around and change in appearance. A\\ndemo of the system and the source code can be found on\\nour project website: http://pjreddie.com/yolo/.\\n6. Conclusion\\nWe introduce YOLO, a uniﬁed model for object detec-\\ntion. Our model is simple to construct and can be trained\\ndirectly on full images. Unlike classiﬁer-based approaches,\\nYOLO is trained on a loss function that directly corresponds\\nto detection performance and the entire model is trained\\njointly.\\nFast YOLO is the fastest general-purpose object detec-\\ntor in the literature and YOLO pushes the state-of-the-art in\\nreal-time object detection. YOLO also generalizes well to\\nnew domains making it ideal for applications that rely on\\nfast, robust object detection.\\nAcknowledgements: This work is partially supported by\\nONR N00014-13-1-0720, NSF IIS-1338054, and The Allen\\nDistinguished Investigator Award.'),\n",
       " Document(metadata={'producer': 'pdfTeX-1.40.12', 'creator': 'LaTeX with hyperref package', 'creationdate': '2016-05-11T00:04:54+00:00', 'source': '..\\\\data\\\\pdf_files\\\\yolo.pdf', 'file_path': '..\\\\data\\\\pdf_files\\\\yolo.pdf', 'total_pages': 10, 'format': 'PDF 1.5', 'title': '', 'author': '', 'subject': '', 'keywords': '', 'moddate': '2016-05-11T00:04:54+00:00', 'trapped': '', 'modDate': 'D:20160511000454Z', 'creationDate': 'D:20160511000454Z', 'page': 8}, page_content='References\\n[1] M. B. Blaschko and C. H. Lampert. Learning to localize ob-\\njects with structured output regression. In Computer Vision–\\nECCV 2008, pages 2–15. Springer, 2008. 4\\n[2] L. Bourdev and J. Malik.\\nPoselets: Body part detectors\\ntrained using 3d human pose annotations. In International\\nConference on Computer Vision (ICCV), 2009. 8\\n[3] H. Cai, Q. Wu, T. Corradi, and P. Hall.\\nThe cross-\\ndepiction problem: Computer vision algorithms for recog-\\nnising objects in artwork and in photographs. arXiv preprint\\narXiv:1505.00110, 2015. 7\\n[4] N. Dalal and B. Triggs. Histograms of oriented gradients for\\nhuman detection. In Computer Vision and Pattern Recogni-\\ntion, 2005. CVPR 2005. IEEE Computer Society Conference\\non, volume 1, pages 886–893. IEEE, 2005. 4, 8\\n[5] T. Dean, M. Ruzon, M. Segal, J. Shlens, S. Vijaya-\\nnarasimhan, J. Yagnik, et al.\\nFast, accurate detection of\\n100,000 object classes on a single machine. In Computer\\nVision and Pattern Recognition (CVPR), 2013 IEEE Confer-\\nence on, pages 1814–1821. IEEE, 2013. 5\\n[6] J. Donahue, Y. Jia, O. Vinyals, J. Hoffman, N. Zhang,\\nE. Tzeng, and T. Darrell. Decaf: A deep convolutional acti-\\nvation feature for generic visual recognition. arXiv preprint\\narXiv:1310.1531, 2013. 4\\n[7] J. Dong, Q. Chen, S. Yan, and A. Yuille. Towards uniﬁed\\nobject detection and semantic segmentation. In Computer\\nVision–ECCV 2014, pages 299–314. Springer, 2014. 7\\n[8] D. Erhan, C. Szegedy, A. Toshev, and D. Anguelov. Scalable\\nobject detection using deep neural networks. In Computer\\nVision and Pattern Recognition (CVPR), 2014 IEEE Confer-\\nence on, pages 2155–2162. IEEE, 2014. 5, 6\\n[9] M. Everingham, S. M. A. Eslami, L. Van Gool, C. K. I.\\nWilliams, J. Winn, and A. Zisserman. The pascal visual ob-\\nject classes challenge: A retrospective. International Journal\\nof Computer Vision, 111(1):98–136, Jan. 2015. 2\\n[10] P. F. Felzenszwalb, R. B. Girshick, D. McAllester, and D. Ra-\\nmanan. Object detection with discriminatively trained part\\nbased models. IEEE Transactions on Pattern Analysis and\\nMachine Intelligence, 32(9):1627–1645, 2010. 1, 4\\n[11] S. Gidaris and N. Komodakis. Object detection via a multi-\\nregion & semantic segmentation-aware CNN model. CoRR,\\nabs/1505.01749, 2015. 7\\n[12] S. Ginosar, D. Haas, T. Brown, and J. Malik. Detecting peo-\\nple in cubist art. In Computer Vision-ECCV 2014 Workshops,\\npages 101–116. Springer, 2014. 7\\n[13] R. Girshick, J. Donahue, T. Darrell, and J. Malik. Rich fea-\\nture hierarchies for accurate object detection and semantic\\nsegmentation. In Computer Vision and Pattern Recognition\\n(CVPR), 2014 IEEE Conference on, pages 580–587. IEEE,\\n2014. 1, 4, 7\\n[14] R. B. Girshick. Fast R-CNN. CoRR, abs/1504.08083, 2015.\\n2, 5, 6, 7\\n[15] S. Gould, T. Gao, and D. Koller. Region-based segmenta-\\ntion and object detection. In Advances in neural information\\nprocessing systems, pages 655–663, 2009. 4\\n[16] B. Hariharan, P. Arbel´aez, R. Girshick, and J. Malik. Simul-\\ntaneous detection and segmentation. In Computer Vision–\\nECCV 2014, pages 297–312. Springer, 2014. 7\\n[17] K. He, X. Zhang, S. Ren, and J. Sun. Spatial pyramid pooling\\nin deep convolutional networks for visual recognition. arXiv\\npreprint arXiv:1406.4729, 2014. 5\\n[18] G. E. Hinton, N. Srivastava, A. Krizhevsky, I. Sutskever, and\\nR. R. Salakhutdinov.\\nImproving neural networks by pre-\\nventing co-adaptation of feature detectors.\\narXiv preprint\\narXiv:1207.0580, 2012. 4\\n[19] D. Hoiem, Y. Chodpathumwan, and Q. Dai. Diagnosing error\\nin object detectors. In Computer Vision–ECCV 2012, pages\\n340–353. Springer, 2012. 6\\n[20] K. Lenc and A. Vedaldi.\\nR-cnn minus r.\\narXiv preprint\\narXiv:1506.06981, 2015. 5, 6\\n[21] R. Lienhart and J. Maydt. An extended set of haar-like fea-\\ntures for rapid object detection. In Image Processing. 2002.\\nProceedings. 2002 International Conference on, volume 1,\\npages I–900. IEEE, 2002. 4\\n[22] M. Lin, Q. Chen, and S. Yan. Network in network. CoRR,\\nabs/1312.4400, 2013. 2\\n[23] D. G. Lowe. Object recognition from local scale-invariant\\nfeatures. In Computer vision, 1999. The proceedings of the\\nseventh IEEE international conference on, volume 2, pages\\n1150–1157. Ieee, 1999. 4\\n[24] D.\\nMishkin.\\nModels\\naccuracy\\non\\nimagenet\\n2012\\nval.\\nhttps://github.com/BVLC/caffe/wiki/\\nModels-accuracy-on-ImageNet-2012-val. Ac-\\ncessed: 2015-10-2. 3\\n[25] C. P. Papageorgiou, M. Oren, and T. Poggio.\\nA general\\nframework for object detection. In Computer vision, 1998.\\nsixth international conference on, pages 555–562. IEEE,\\n1998. 4\\n[26] J. Redmon.\\nDarknet: Open source neural networks in c.\\nhttp://pjreddie.com/darknet/, 2013–2016. 3\\n[27] J. Redmon and A. Angelova. Real-time grasp detection using\\nconvolutional neural networks. CoRR, abs/1412.3128, 2014.\\n5\\n[28] S. Ren, K. He, R. Girshick, and J. Sun. Faster r-cnn: To-\\nwards real-time object detection with region proposal net-\\nworks. arXiv preprint arXiv:1506.01497, 2015. 5, 6, 7\\n[29] S. Ren, K. He, R. B. Girshick, X. Zhang, and J. Sun. Object\\ndetection networks on convolutional feature maps. CoRR,\\nabs/1504.06066, 2015. 3, 7\\n[30] O. Russakovsky, J. Deng, H. Su, J. Krause, S. Satheesh,\\nS. Ma, Z. Huang, A. Karpathy, A. Khosla, M. Bernstein,\\nA. C. Berg, and L. Fei-Fei. ImageNet Large Scale Visual\\nRecognition Challenge. International Journal of Computer\\nVision (IJCV), 2015. 3\\n[31] M. A. Sadeghi and D. Forsyth. 30hz object detection with\\ndpm v5.\\nIn Computer Vision–ECCV 2014, pages 65–79.\\nSpringer, 2014. 5, 6\\n[32] P. Sermanet, D. Eigen, X. Zhang, M. Mathieu, R. Fergus,\\nand Y. LeCun. Overfeat: Integrated recognition, localiza-\\ntion and detection using convolutional networks.\\nCoRR,\\nabs/1312.6229, 2013. 4, 5'),\n",
       " Document(metadata={'producer': 'pdfTeX-1.40.12', 'creator': 'LaTeX with hyperref package', 'creationdate': '2016-05-11T00:04:54+00:00', 'source': '..\\\\data\\\\pdf_files\\\\yolo.pdf', 'file_path': '..\\\\data\\\\pdf_files\\\\yolo.pdf', 'total_pages': 10, 'format': 'PDF 1.5', 'title': '', 'author': '', 'subject': '', 'keywords': '', 'moddate': '2016-05-11T00:04:54+00:00', 'trapped': '', 'modDate': 'D:20160511000454Z', 'creationDate': 'D:20160511000454Z', 'page': 9}, page_content='[33] Z. Shen and X. Xue. Do more dropouts in pool5 feature maps\\nfor better object detection. arXiv preprint arXiv:1409.6911,\\n2014. 7\\n[34] C. Szegedy,\\nW. Liu,\\nY. Jia,\\nP. Sermanet,\\nS. Reed,\\nD. Anguelov, D. Erhan, V. Vanhoucke, and A. Rabinovich.\\nGoing deeper with convolutions.\\nCoRR, abs/1409.4842,\\n2014. 2\\n[35] J. R. Uijlings, K. E. van de Sande, T. Gevers, and A. W.\\nSmeulders. Selective search for object recognition. Inter-\\nnational journal of computer vision, 104(2):154–171, 2013.\\n4\\n[36] P. Viola and M. Jones. Robust real-time object detection.\\nInternational Journal of Computer Vision, 4:34–47, 2001. 4\\n[37] P. Viola and M. J. Jones. Robust real-time face detection.\\nInternational journal of computer vision, 57(2):137–154,\\n2004. 5\\n[38] J. Yan, Z. Lei, L. Wen, and S. Z. Li. The fastest deformable\\npart model for object detection. In Computer Vision and Pat-\\ntern Recognition (CVPR), 2014 IEEE Conference on, pages\\n2497–2504. IEEE, 2014. 5, 6\\n[39] C. L. Zitnick and P. Doll´ar. Edge boxes: Locating object pro-\\nposals from edges. In Computer Vision–ECCV 2014, pages\\n391–405. Springer, 2014. 4')]"
      ]
     },
     "execution_count": 6,
     "metadata": {},
     "output_type": "execute_result"
    }
   ],
   "source": [
    "# for pdf\n",
    "from langchain_community.document_loaders import PyPDFLoader,PyMuPDFLoader\n",
    "\n",
    "pdf_loader = DirectoryLoader(\n",
    "    r\"..\\data\\pdf_files\",\n",
    "    glob = \"**/*.pdf\",\n",
    "    loader_cls= PyMuPDFLoader,\n",
    "    show_progress=True\n",
    ")\n",
    "\n",
    "pdf_document = pdf_loader.load()\n",
    "pdf_document"
   ]
  },
  {
   "cell_type": "markdown",
   "id": "06b11741",
   "metadata": {},
   "source": [
    "| Feature          | **PyPDFLoader**    | **PyMuPDFLoader**              |\n",
    "| ---------------- | ------------------ | ------------------------------ |\n",
    "| Library          | PyPDF2             | PyMuPDF (fitz)                 |\n",
    "| Speed            | ⚡ Fast             | 🐢 Slightly slower             |\n",
    "| Text Extraction  | Basic (plain text) | Advanced (preserves structure) |\n",
    "| Layout / Columns | ❌ Ignored          | ✅ Preserved                    |\n",
    "| Scanned PDFs     | ❌ No               | ⚠️ Partial (with OCR)          |\n",
    "| Best For         | Simple text PDFs   | Complex or formatted PDFs      |\n"
   ]
  },
  {
   "cell_type": "markdown",
   "id": "45c3011d",
   "metadata": {},
   "source": [
    "DirectoryLoader uses one loader_cls for all files, so it can’t automatically choose the correct loader per extension\n",
    "\n",
    "LangChain’s DirectoryLoader allows a custom callable for loader_cls — meaning you can define a function that returns the correct loader based on file extension."
   ]
  },
  {
   "cell_type": "code",
   "execution_count": 8,
   "id": "5aa2617e",
   "metadata": {},
   "outputs": [
    {
     "name": "stderr",
     "output_type": "stream",
     "text": [
      "100%|██████████| 4/4 [00:00<00:00, 37.49it/s]"
     ]
    },
    {
     "name": "stdout",
     "output_type": "stream",
     "text": [
      "✅ Loaded 23 documents from mixed formats.\n"
     ]
    },
    {
     "name": "stderr",
     "output_type": "stream",
     "text": [
      "\n"
     ]
    }
   ],
   "source": [
    "from langchain_community.document_loaders import DirectoryLoader, PyMuPDFLoader, TextLoader, CSVLoader\n",
    "\n",
    "def dynamic_loader(file_path):\n",
    "    \"\"\"Return the right loader depending on file extension.\"\"\"\n",
    "    if file_path.lower().endswith(\".pdf\"):\n",
    "        return PyMuPDFLoader(file_path)\n",
    "    elif file_path.lower().endswith(\".txt\"):\n",
    "        return TextLoader(file_path, encoding=\"utf-8\")\n",
    "    elif file_path.lower().endswith(\".csv\"):\n",
    "        return CSVLoader(file_path)\n",
    "    else:\n",
    "        raise ValueError(f\"Unsupported file type: {file_path}\")\n",
    "\n",
    "folder_path = r\"..\\data\"\n",
    "\n",
    "# DirectoryLoader can now handle mixed formats\n",
    "mixed_loader = DirectoryLoader(\n",
    "    folder_path,\n",
    "    glob=\"**/*.*\",\n",
    "    loader_cls=dynamic_loader,   # <— dynamic decision\n",
    "    show_progress=True\n",
    ")\n",
    "\n",
    "all_docs = mixed_loader.load()\n",
    "\n",
    "print(f\"✅ Loaded {len(all_docs)} documents from mixed formats.\")\n"
   ]
  },
  {
   "cell_type": "markdown",
   "id": "02977c96",
   "metadata": {},
   "source": [
    "## RAG Pipeline - Data Ingestion to vectorDB PipeLine"
   ]
  },
  {
   "cell_type": "code",
   "execution_count": 1,
   "id": "9ae6311c",
   "metadata": {},
   "outputs": [
    {
     "name": "stderr",
     "output_type": "stream",
     "text": [
      "c:\\Users\\maquib\\projects\\rag\\.venv\\Lib\\site-packages\\tqdm\\auto.py:21: TqdmWarning: IProgress not found. Please update jupyter and ipywidgets. See https://ipywidgets.readthedocs.io/en/stable/user_install.html\n",
      "  from .autonotebook import tqdm as notebook_tqdm\n"
     ]
    }
   ],
   "source": [
    "import os\n",
    "from langchain_community.document_loaders import TextLoader,DirectoryLoader,PyMuPDFLoader,PyPDFLoader\n",
    "from langchain_text_splitters import RecursiveCharacterTextSplitter\n",
    "from pathlib import Path\n"
   ]
  },
  {
   "cell_type": "code",
   "execution_count": 2,
   "id": "03abe96d",
   "metadata": {},
   "outputs": [
    {
     "name": "stdout",
     "output_type": "stream",
     "text": [
      "Found 2 PDF files to process\n",
      "\n",
      "Processing: attention.pdf\n",
      " Loaded 11 pages\n",
      "\n",
      "Processing: yolo.pdf\n",
      " Loaded 10 pages\n",
      "\n",
      "Total Documents loaded: 21\n"
     ]
    }
   ],
   "source": [
    "## Read all the file inside the dir\n",
    "def process_all_pdfs(pdf_directory):\n",
    "    all_documents = []\n",
    "    pdf_dir = Path(pdf_directory)\n",
    "\n",
    "    pdf_files = list(pdf_dir.glob(\"**/*.pdf\"))\n",
    "\n",
    "    print(f\"Found {len(pdf_files)} PDF files to process\")\n",
    "\n",
    "    for pdf_file in pdf_files:\n",
    "        print(f\"\\nProcessing: {pdf_file.name}\")\n",
    "        try:\n",
    "            loader = PyPDFLoader(pdf_file)\n",
    "            documents = loader.load()\n",
    "\n",
    "            for doc in documents:\n",
    "                doc.metadata['source_file'] = pdf_file.name\n",
    "                doc.metadata['file_type'] = \"pdf\"\n",
    "            \n",
    "            all_documents.extend(documents)\n",
    "            print(f\" Loaded {len(documents)} pages\")\n",
    "        except Exception as e:\n",
    "            print(f\"Error: {e}\")\n",
    "    print(f\"\\nTotal Documents loaded: {len(all_documents)}\")\n",
    "    return all_documents\n",
    "\n",
    "all_pdf_documents = process_all_pdfs(\"../data\")"
   ]
  },
  {
   "cell_type": "code",
   "execution_count": 4,
   "id": "70177f03",
   "metadata": {},
   "outputs": [
    {
     "name": "stdout",
     "output_type": "stream",
     "text": [
      "📂 Scanning directory for supported files...\n"
     ]
    },
    {
     "name": "stderr",
     "output_type": "stream",
     "text": [
      "100%|██████████| 4/4 [00:00<00:00, 27.61it/s]"
     ]
    },
    {
     "name": "stdout",
     "output_type": "stream",
     "text": [
      "✅ Total documents loaded: 23\n",
      "📊 Final count: 23 documents loaded.\n"
     ]
    },
    {
     "name": "stderr",
     "output_type": "stream",
     "text": [
      "\n"
     ]
    }
   ],
   "source": [
    "## For Production purpose\n",
    "from langchain_community.document_loaders import DirectoryLoader, PyMuPDFLoader, TextLoader, CSVLoader\n",
    "from pathlib import Path\n",
    "\n",
    "def process_all_documents(data_directory: str):\n",
    "    \"\"\"\n",
    "    Use DirectoryLoader to load all PDFs, TXTs, and CSVs from one directory.\n",
    "    Automatically applies the correct loader per file type.\n",
    "    \"\"\"\n",
    "    \n",
    "    # Define a dynamic loader selector\n",
    "    def dynamic_loader(file_path: str):\n",
    "        if file_path.lower().endswith(\".pdf\"):\n",
    "            return PyMuPDFLoader(file_path)\n",
    "        elif file_path.lower().endswith(\".txt\"):\n",
    "            return TextLoader(file_path, encoding=\"utf-8\")\n",
    "        elif file_path.lower().endswith(\".csv\"):\n",
    "            return CSVLoader(file_path)\n",
    "        else:\n",
    "            raise ValueError(f\"❌ Unsupported file type: {file_path}\")\n",
    "\n",
    "    # Create a single DirectoryLoader that handles all formats\n",
    "    loader = DirectoryLoader(\n",
    "        data_directory,\n",
    "        glob=\"**/*.*\",          # Include all file types\n",
    "        loader_cls=dynamic_loader,\n",
    "        show_progress=True\n",
    "    )\n",
    "\n",
    "    print(\"📂 Scanning directory for supported files...\")\n",
    "    all_documents = loader.load()\n",
    "    print(f\"✅ Total documents loaded: {len(all_documents)}\")\n",
    "\n",
    "    # Add metadata (file name + type)\n",
    "    for doc in all_documents:\n",
    "        path = Path(doc.metadata[\"source\"])\n",
    "        doc.metadata[\"source_file\"] = path.name\n",
    "        doc.metadata[\"file_type\"] = path.suffix.lower().replace(\".\", \"\")\n",
    "\n",
    "    return all_documents\n",
    "\n",
    "\n",
    "# --- Run it ---\n",
    "all_docs = process_all_documents(\"../data\")\n",
    "print(f\"📊 Final count: {len(all_docs)} documents loaded.\")\n"
   ]
  },
  {
   "cell_type": "code",
   "execution_count": 5,
   "id": "c95e881e",
   "metadata": {},
   "outputs": [],
   "source": [
    "### Text Splitting\n",
    "\n",
    "def split_documents(documents,chunk_size=1000,chunk_overlap=200):\n",
    "    text_splitter = RecursiveCharacterTextSplitter(\n",
    "        chunk_size = chunk_size,\n",
    "        chunk_overlap = chunk_overlap,\n",
    "        length_function = len,\n",
    "        separators= [\"\\n\\n\",\"\\n\",\" \",\"\"]\n",
    "    )\n",
    "    split_docs = text_splitter.split_documents(documents)\n",
    "    print(f\"Split {len(documents)} documents into {len(split_docs)} chunks\")\n",
    "\n",
    "    if split_docs:\n",
    "        print(\"\\nExample chunk:\")\n",
    "        print(f\"Content: {split_docs[0].page_content[:200]}...\")\n",
    "        print(f\"Metadata: {split_docs[0].metadata}\")\n",
    "    return split_docs"
   ]
  },
  {
   "cell_type": "code",
   "execution_count": 6,
   "id": "55ccebe4",
   "metadata": {},
   "outputs": [
    {
     "name": "stdout",
     "output_type": "stream",
     "text": [
      "Split 21 documents into 98 chunks\n",
      "\n",
      "Example chunk:\n",
      "Content: Attention Is All You Need\n",
      "Ashish Vaswani∗\n",
      "Google Brain\n",
      "avaswani@google.com\n",
      "Noam Shazeer∗\n",
      "Google Brain\n",
      "noam@google.com\n",
      "Niki Parmar∗\n",
      "Google Research\n",
      "nikip@google.com\n",
      "Jakob Uszkoreit∗\n",
      "Google Research\n",
      "usz...\n",
      "Metadata: {'producer': 'PDFium', 'creator': 'PDFium', 'creationdate': 'D:20251023172502', 'source': '..\\\\data\\\\pdf_files\\\\attention.pdf', 'total_pages': 11, 'page': 0, 'page_label': '1', 'source_file': 'attention.pdf', 'file_type': 'pdf'}\n"
     ]
    }
   ],
   "source": [
    "chunks = split_documents(all_pdf_documents)"
   ]
  },
  {
   "cell_type": "markdown",
   "id": "cdfe365e",
   "metadata": {},
   "source": [
    "| Use Case                                  | Recommended `chunk_size` | Recommended `chunk_overlap` | Notes                             |\n",
    "| ----------------------------------------- | ------------------------ | --------------------------- | --------------------------------- |\n",
    "| 🧾 Short text files (e.g., emails, notes) | 500–1000                 | 50–100                      | Preserve small context            |\n",
    "| 📚 Long PDFs or articles                  | 1000–2000                | 150–300                     | Balance context + performance     |\n",
    "| 🧠 LLM retrieval (RAG)                    | 500–1500                 | 100–200                     | Avoid context cutoff mid-sentence |\n",
    "| ⚙️ Code or structured data                | 200–500                  | 50–100                      | Finer-grained chunks help search  |\n",
    "| 🪶 Summarization (few-shot context)       | 2000–4000                | 200–400                     | Larger chunks preserve flow       |\n",
    "\n",
    "\n",
    "⚖️ General Rules of Thumb\n",
    "\n",
    "Overlap ≈ 10–20% of chunk size → keeps coherence without too much duplication.\n",
    "\n",
    "Smaller chunks → better for search and retrieval.\n",
    "\n",
    "Larger chunks → better for summarization or context-rich tasks.\n",
    "\n",
    "Tune based on embedding model’s context window (e.g., 1024–8192 tokens).\n"
   ]
  },
  {
   "cell_type": "markdown",
   "id": "89a2bf46",
   "metadata": {},
   "source": [
    "### Embedding and VectorStore DB"
   ]
  },
  {
   "cell_type": "code",
   "execution_count": 7,
   "id": "81c6cf79",
   "metadata": {},
   "outputs": [],
   "source": [
    "import numpy as np\n",
    "from sentence_transformers import SentenceTransformer\n",
    "import chromadb\n",
    "from chromadb.config import Settings\n",
    "import uuid\n",
    "from typing import List,Dict,Any,Tuple\n",
    "from sklearn.metrics.pairwise import cosine_similarity\n"
   ]
  },
  {
   "cell_type": "code",
   "execution_count": 18,
   "id": "53e51751",
   "metadata": {},
   "outputs": [],
   "source": [
    "# class EmbeddingManager:\n",
    "#     def __init__(self,model_name:str = \"all-MiniLM-L6-v2\"):\n",
    "#         self.model_name = model_name\n",
    "#         self.model = None\n",
    "#         self._load_model()\n",
    "    \n",
    "#     def _load_model(self):\n",
    "#         try:\n",
    "#             print(f\"Loading Embedding Model: {self.model_name}\")\n",
    "#             self.model = SentenceTransformer(self.model_name)\n",
    "#             print(f\"Model Loaded Successfully. Embedding Dimension: {self.model.get_sentence_embedding_dimension()}\")\n",
    "#         except Exception as e:\n",
    "#             raise RuntimeError(f\"Failed to load model '{self.model_name}': {e}\")\n",
    "\n",
    "    \n",
    "#     def generate_embeddings(self,texts:List[str]) -> np.ndarray:\n",
    "#         if not self.model:\n",
    "#             raise ValueError(\"Model not loaded\")\n",
    "#         print(f\"Generating embeddings for {len(texts)} texts...\")\n",
    "#         if isinstance(texts, str):\n",
    "#             texts = [texts]\n",
    "#         embeddings = self.model.encode(texts,show_progress_bar=True)\n",
    "#         print(f\"Generated embeddings with shape: {embeddings.shape}\")\n",
    "#         return embeddings\n",
    "    \n",
    "\n",
    "# For Azure Openai Embeddings\n",
    "\n",
    "import os\n",
    "import numpy as np\n",
    "from typing import List\n",
    "from openai import AzureOpenAI\n",
    "\n",
    "class EmbeddingManager:\n",
    "    def __init__(self, model_name: str = None):\n",
    "        # Read environment variables\n",
    "        azure_endpoint = os.getenv(\"AZURE_OPENAI_ENDPOINT\")\n",
    "        api_key = os.getenv(\"AZURE_OPENAI_API_KEY\")\n",
    "        api_version = os.getenv(\"AZURE_OPENAI_API_VERSION\")\n",
    "        \n",
    "        if not azure_endpoint or not api_key or not api_version:\n",
    "            raise ValueError(\"AZURE_OPENAI_ENDPOINT, AZURE_OPENAI_API_KEY, and AZURE_OPENAI_API_VERSION must all be set in environment variables.\")\n",
    "        \n",
    "        # Default to your deployed model name if not passed\n",
    "        self.model_name = model_name or os.getenv(\"AZURE_OPENAI_EMBEDDING_MODEL\", \"text-embedding-3-large\")\n",
    "\n",
    "        # Initialize Azure OpenAI client\n",
    "        self.client = AzureOpenAI(\n",
    "            api_key=api_key,\n",
    "            api_version=api_version,\n",
    "            azure_endpoint=azure_endpoint\n",
    "        )\n",
    "\n",
    "    def generate_embeddings(self, texts: List[str]) -> np.ndarray:\n",
    "        if not isinstance(texts, list) or not all(isinstance(t, str) for t in texts):\n",
    "            raise TypeError(\"Input must be a list of strings.\")\n",
    "\n",
    "        print(f\"Generating embeddings for {len(texts)} texts using model: {self.model_name}\")\n",
    "\n",
    "        response = self.client.embeddings.create(\n",
    "            model=self.model_name,\n",
    "            input=texts\n",
    "        )\n",
    "\n",
    "        embeddings = np.array([item.embedding for item in response.data], dtype=np.float32)\n",
    "        print(f\"Generated embeddings with shape: {embeddings.shape}\")\n",
    "        return embeddings\n"
   ]
  },
  {
   "cell_type": "code",
   "execution_count": null,
   "id": "f86bd7af",
   "metadata": {},
   "outputs": [],
   "source": [
    "embedding_manager = EmbeddingManager(model_name=\"text-embedding-3-large\")"
   ]
  },
  {
   "cell_type": "code",
   "execution_count": 20,
   "id": "be586c5d",
   "metadata": {},
   "outputs": [],
   "source": [
    "## VectorStore\n",
    "\n",
    "class VectorStore:\n",
    "    def __init__(self,collection_name:str=\"pdf_documents\",persist_directory:str=\"../data/vector_store\"):\n",
    "\n",
    "        self.collection_name =  collection_name\n",
    "        self.persist_directory = persist_directory\n",
    "        self.client = None\n",
    "        self.collection = None\n",
    "        self._initialize_store()\n",
    "    \n",
    "    def _initialize_store(self):\n",
    "        try:\n",
    "            os.makedirs(self.persist_directory,exist_ok=True)\n",
    "            self.client =  chromadb.PersistentClient(path=self.persist_directory)\n",
    "\n",
    "            self.collection = self.client.get_or_create_collection(\n",
    "                name=self.collection_name,\n",
    "                metadata= {\"description\": \"PDF document embeddings for RAG\"}\n",
    "            )\n",
    "            print(f\"vector store initialized. Collection: {self.collection_name}\")\n",
    "            print(f\"Existing documents in collection: {self.collection.count()}\")\n",
    "        except Exception as e:\n",
    "            print(f\"Error initializing vector store: {e}\")\n",
    "            raise\n",
    "    \n",
    "    def add_documents(self,documents:List[Any],embeddings:np.ndarray):\n",
    "        if len(documents)!=len(embeddings):\n",
    "            raise ValueError(\"Number of documents must match number of embeddings\")\n",
    "        print(f\"Adding {len(documents)} documents to vector store...\")\n",
    "\n",
    "        #prepare data for chromadb\n",
    "        ids = []\n",
    "        metadatas = []\n",
    "        documents_text = []\n",
    "        embeddings_list = []\n",
    "\n",
    "        for i ,(doc,embedding) in enumerate(zip(documents,embeddings)):\n",
    "            doc_id = f\"doc_{uuid.uuid4().hex[:8]}_{i}\"\n",
    "            ids.append(doc_id)\n",
    "\n",
    "            metadata = metadata = dict(doc.metadata) if getattr(doc, \"metadata\", None) else {}\n",
    "            metadata['doc_index'] = i\n",
    "            metadata['content_length'] = len(doc.page_content)\n",
    "            metadatas.append(metadata)\n",
    "\n",
    "            documents_text.append(doc.page_content)\n",
    "            embeddings_list.append(embedding.tolist())\n",
    "\n",
    "        try:\n",
    "            self.collection.add(\n",
    "                ids = ids,\n",
    "                embeddings = embeddings_list,\n",
    "                metadatas = metadatas,\n",
    "                documents= documents_text\n",
    "            )\n",
    "            print(f\"Successfully added {len(documents)} documents to vector store\")\n",
    "            print(f\"Total documents in the collections: {self.collection.count()}\")\n",
    "        except Exception as e:\n",
    "            print(f\"Error adding documents to vector store: {e}\")\n",
    "            raise\n"
   ]
  },
  {
   "cell_type": "code",
   "execution_count": 21,
   "id": "6a94cf59",
   "metadata": {},
   "outputs": [
    {
     "name": "stdout",
     "output_type": "stream",
     "text": [
      "vector store initialized. Collection: pdf_documents\n",
      "Existing documents in collection: 0\n"
     ]
    }
   ],
   "source": [
    "vectorstore = VectorStore()"
   ]
  },
  {
   "cell_type": "code",
   "execution_count": 22,
   "id": "343f425d",
   "metadata": {},
   "outputs": [
    {
     "name": "stdout",
     "output_type": "stream",
     "text": [
      "Generating embeddings for 98 texts using model: text-embedding-3-large\n",
      "Generated embeddings with shape: (98, 3072)\n",
      "Adding 98 documents to vector store...\n",
      "Successfully added 98 documents to vector store\n",
      "Total documents in the collections: 98\n"
     ]
    }
   ],
   "source": [
    "texts = [doc.page_content for doc in chunks]\n",
    "embeddings = embedding_manager.generate_embeddings(texts)\n",
    "\n",
    "vectorstore.add_documents(chunks,embeddings)"
   ]
  },
  {
   "cell_type": "markdown",
   "id": "64b3f299",
   "metadata": {},
   "source": [
    "## Retriever Pipeline From VectorStore"
   ]
  },
  {
   "cell_type": "code",
   "execution_count": 23,
   "id": "68b83e67",
   "metadata": {},
   "outputs": [],
   "source": [
    "class RAGRetriever:\n",
    "    def __init__(self,vector_store:VectorStore, embedding_manager: EmbeddingManager):\n",
    "        self.vector_store = vector_store\n",
    "        self.embedding_manager = embedding_manager\n",
    "    \n",
    "    def retrieve(self, query: str, top_k: int = 5, score_threshold: float = 0.0) -> List[Dict[str, Any]]:\n",
    "        \"\"\"\n",
    "        Retrieve relevant documents for a query\n",
    "        \n",
    "        Args:\n",
    "            query: The search query\n",
    "            top_k: Number of top results to return\n",
    "            score_threshold: Minimum similarity score threshold\n",
    "            \n",
    "        Returns:\n",
    "            List of dictionaries containing retrieved documents and metadata\n",
    "        \"\"\"\n",
    "        print(f\"Retrieving documents for query: '{query}'\")\n",
    "        print(f\"Top K: {top_k}, Score threshold: {score_threshold}\")\n",
    "        \n",
    "        # Generate query embedding\n",
    "        query_embedding = self.embedding_manager.generate_embeddings([query])[0]\n",
    "        \n",
    "        # Search in vector store\n",
    "        try:\n",
    "            results = self.vector_store.collection.query(\n",
    "                query_embeddings=[query_embedding.tolist()],\n",
    "                n_results=top_k\n",
    "            )\n",
    "            \n",
    "            # Process results\n",
    "            retrieved_docs = []\n",
    "            \n",
    "            if results['documents'] and results['documents'][0]:\n",
    "                documents = results['documents'][0]\n",
    "                metadatas = results['metadatas'][0]\n",
    "                distances = results['distances'][0]\n",
    "                ids = results['ids'][0]\n",
    "                \n",
    "                for i, (doc_id, document, metadata, distance) in enumerate(zip(ids, documents, metadatas, distances)):\n",
    "                    # Convert distance to similarity score (ChromaDB uses cosine distance)\n",
    "                    similarity_score = 1 - distance\n",
    "                    \n",
    "                    if similarity_score >= score_threshold:\n",
    "                        retrieved_docs.append({\n",
    "                            'id': doc_id,\n",
    "                            'content': document,\n",
    "                            'metadata': metadata,\n",
    "                            'similarity_score': similarity_score,\n",
    "                            'distance': distance,\n",
    "                            'rank': i + 1\n",
    "                        })\n",
    "                \n",
    "                print(f\"Retrieved {len(retrieved_docs)} documents (after filtering)\")\n",
    "            else:\n",
    "                print(\"No documents found\")\n",
    "            \n",
    "            return retrieved_docs\n",
    "            \n",
    "        except Exception as e:\n",
    "            print(f\"Error during retrieval: {e}\")\n",
    "            return []\n"
   ]
  },
  {
   "cell_type": "code",
   "execution_count": 24,
   "id": "ccc2c1d2",
   "metadata": {},
   "outputs": [],
   "source": [
    "rag_retriever=RAGRetriever(vectorstore,embedding_manager)"
   ]
  },
  {
   "cell_type": "code",
   "execution_count": 27,
   "id": "2d053348",
   "metadata": {},
   "outputs": [
    {
     "name": "stdout",
     "output_type": "stream",
     "text": [
      "Retrieving documents for query: 'What is yolo model'\n",
      "Top K: 5, Score threshold: 0.0\n",
      "Generating embeddings for 1 texts using model: text-embedding-3-large\n",
      "Generated embeddings with shape: (1, 3072)\n",
      "Retrieved 2 documents (after filtering)\n"
     ]
    },
    {
     "data": {
      "text/plain": [
       "[{'id': 'doc_29f0ace4_44',\n",
       "  'content': 'YOLO model processes images in real-time at 45 frames\\nper second. A smaller version of the network, Fast YOLO,\\nprocesses an astounding 155 frames per second while\\nstill achieving double the mAP of other real-time detec-\\ntors. Compared to state-of-the-art detection systems, YOLO\\nmakes more localization errors but is less likely to predict\\nfalse positives on background. Finally, YOLO learns very\\ngeneral representations of objects. It outperforms other de-\\ntection methods, including DPM and R-CNN, when gener-\\nalizing from natural images to other domains like artwork.\\n1. Introduction\\nHumans glance at an image and instantly know what ob-\\njects are in the image, where they are, and how they inter-\\nact. The human visual system is fast and accurate, allow-\\ning us to perform complex tasks like driving with little con-\\nscious thought. Fast, accurate algorithms for object detec-\\ntion would allow computers to drive cars without special-\\nized sensors, enable assistive devices to convey real-time',\n",
       "  'metadata': {'page': 0,\n",
       "   'file_type': 'pdf',\n",
       "   'source_file': 'yolo.pdf',\n",
       "   'moddate': '2016-05-11T00:04:54+00:00',\n",
       "   'keywords': '',\n",
       "   'ptex.fullbanner': 'This is pdfTeX, Version 3.1415926-2.3-1.40.12 (TeX Live 2011) kpathsea version 6.0.1',\n",
       "   'producer': 'pdfTeX-1.40.12',\n",
       "   'subject': '',\n",
       "   'page_label': '1',\n",
       "   'creator': 'LaTeX with hyperref package',\n",
       "   'total_pages': 10,\n",
       "   'trapped': '/False',\n",
       "   'doc_index': 44,\n",
       "   'content_length': 997,\n",
       "   'creationdate': '2016-05-11T00:04:54+00:00',\n",
       "   'title': '',\n",
       "   'source': '..\\\\data\\\\pdf_files\\\\yolo.pdf',\n",
       "   'author': ''},\n",
       "  'similarity_score': 0.05188548564910889,\n",
       "  'distance': 0.9481145143508911,\n",
       "  'rank': 1},\n",
       " {'id': 'doc_0d54905f_47',\n",
       "  'content': 'nates and class probabilities. Using our system, you only\\nlook once (YOLO) at an image to predict what objects are\\npresent and where they are.\\nYOLO is refreshingly simple: see Figure 1. A sin-\\ngle convolutional network simultaneously predicts multi-\\nple bounding boxes and class probabilities for those boxes.\\nYOLO trains on full images and directly optimizes detec-\\ntion performance. This uniﬁed model has several beneﬁts\\nover traditional methods of object detection.\\nFirst, YOLO is extremely fast. Since we frame detection\\nas a regression problem we don’t need a complex pipeline.\\nWe simply run our neural network on a new image at test\\ntime to predict detections. Our base network runs at 45\\nframes per second with no batch processing on a Titan X\\nGPU and a fast version runs at more than 150 fps. This\\nmeans we can process streaming video in real-time with\\nless than 25 milliseconds of latency. Furthermore, YOLO\\nachieves more than twice the mean average precision of',\n",
       "  'metadata': {'author': '',\n",
       "   'keywords': '',\n",
       "   'moddate': '2016-05-11T00:04:54+00:00',\n",
       "   'creationdate': '2016-05-11T00:04:54+00:00',\n",
       "   'trapped': '/False',\n",
       "   'content_length': 971,\n",
       "   'file_type': 'pdf',\n",
       "   'page_label': '1',\n",
       "   'creator': 'LaTeX with hyperref package',\n",
       "   'source': '..\\\\data\\\\pdf_files\\\\yolo.pdf',\n",
       "   'ptex.fullbanner': 'This is pdfTeX, Version 3.1415926-2.3-1.40.12 (TeX Live 2011) kpathsea version 6.0.1',\n",
       "   'subject': '',\n",
       "   'doc_index': 47,\n",
       "   'page': 0,\n",
       "   'title': '',\n",
       "   'source_file': 'yolo.pdf',\n",
       "   'total_pages': 10,\n",
       "   'producer': 'pdfTeX-1.40.12'},\n",
       "  'similarity_score': 0.025827348232269287,\n",
       "  'distance': 0.9741726517677307,\n",
       "  'rank': 2}]"
      ]
     },
     "execution_count": 27,
     "metadata": {},
     "output_type": "execute_result"
    }
   ],
   "source": [
    "rag_retriever.retrieve(\"What is yolo model\")"
   ]
  },
  {
   "cell_type": "code",
   "execution_count": 23,
   "id": "488bc915",
   "metadata": {},
   "outputs": [
    {
     "data": {
      "text/plain": [
       "'import os\\nfrom openai import AzureOpenAI\\nfrom dotenv import load_dotenv\\n\\nload_dotenv(override=True)\\n\\nendpoint = os.getenv(\"AZURE_OPENAI_ENDPOINT\")\\nmodel_name = \"gpt-4o\"\\ndeployment = os.getenv(\"AZURE_OPENAI_DEPLOYMENT_NAME\")\\n\\nsubscription_key = os.getenv(\"AZURE_OPENAI_API_KEY\")\\napi_version = os.getenv(\"AZURE_OPENAI_API_VERSION\")\\n\\nclient = AzureOpenAI(\\n    api_version=api_version,\\n    azure_endpoint=endpoint,\\n    api_key=subscription_key,\\n)\\n\\nresponse = client.chat.completions.create(\\n    messages=[\\n        {\\n            \"role\": \"system\",\\n            \"content\": \"You are a helpful assistant.\",\\n        },\\n        {\\n            \"role\": \"user\",\\n            \"content\": \"hello how are you?\",\\n        }\\n    ],\\n    stream=True,\\n    max_tokens=4096,\\n    temperature=1.0,\\n    top_p=1.0,\\n    model=deployment\\n)\\n\\n# print(response.choices[0].message.content)\\n\\nfor update in response:\\n    if update.choices:\\n        print(update.choices[0].delta.content or \"\", end=\"\")\\n\\nclient.close()'"
      ]
     },
     "execution_count": 23,
     "metadata": {},
     "output_type": "execute_result"
    }
   ],
   "source": [
    "\"\"\"import os\n",
    "from openai import AzureOpenAI\n",
    "from dotenv import load_dotenv\n",
    "\n",
    "load_dotenv(override=True)\n",
    "\n",
    "endpoint = os.getenv(\"AZURE_OPENAI_ENDPOINT\")\n",
    "model_name = \"gpt-4o\"\n",
    "deployment = os.getenv(\"AZURE_OPENAI_DEPLOYMENT_NAME\")\n",
    "\n",
    "subscription_key = os.getenv(\"AZURE_OPENAI_API_KEY\")\n",
    "api_version = os.getenv(\"AZURE_OPENAI_API_VERSION\")\n",
    "\n",
    "client = AzureOpenAI(\n",
    "    api_version=api_version,\n",
    "    azure_endpoint=endpoint,\n",
    "    api_key=subscription_key,\n",
    ")\n",
    "\n",
    "response = client.chat.completions.create(\n",
    "    messages=[\n",
    "        {\n",
    "            \"role\": \"system\",\n",
    "            \"content\": \"You are a helpful assistant.\",\n",
    "        },\n",
    "        {\n",
    "            \"role\": \"user\",\n",
    "            \"content\": \"hello how are you?\",\n",
    "        }\n",
    "    ],\n",
    "    stream=True,\n",
    "    max_tokens=4096,\n",
    "    temperature=1.0,\n",
    "    top_p=1.0,\n",
    "    model=deployment\n",
    ")\n",
    "\n",
    "# print(response.choices[0].message.content)\n",
    "\n",
    "for update in response:\n",
    "    if update.choices:\n",
    "        print(update.choices[0].delta.content or \"\", end=\"\")\n",
    "\n",
    "client.close()\"\"\""
   ]
  },
  {
   "cell_type": "markdown",
   "id": "70a9df9d",
   "metadata": {},
   "source": [
    "## RAG Pipeline- VectorDB To LLM Output Generation"
   ]
  },
  {
   "cell_type": "code",
   "execution_count": null,
   "id": "fdee239a",
   "metadata": {},
   "outputs": [],
   "source": [
    "from langchain_openai import AzureChatOpenAI\n",
    "from langchain_core.prompts import PromptTemplate\n",
    "from langchain_core.messages import HumanMessage,SystemMessage \n",
    "\n",
    "llm = AzureChatOpenAI(\n",
    "    openai_api_key=os.getenv(\"AZURE_OPENAI_API_KEY\"),\n",
    "    azure_endpoint=os.getenv(\"AZURE_OPENAI_ENDPOINT\"),\n",
    "    azure_deployment=os.getenv(\"AZURE_OPENAI_DEPLOYMENT_NAME\"),\n",
    "    api_version=os.getenv(\"AZURE_OPENAI_API_VERSION\"),\n",
    "    temperature=0.7\n",
    ")"
   ]
  },
  {
   "cell_type": "code",
   "execution_count": 29,
   "id": "47aa5df9",
   "metadata": {},
   "outputs": [
    {
     "name": "stdout",
     "output_type": "stream",
     "text": [
      "Retrieving documents for query: 'model architecture of attention model'\n",
      "Top K: 3, Score threshold: 0.0\n",
      "Generating embeddings for 1 texts using model: text-embedding-3-large\n",
      "Generated embeddings with shape: (1, 3072)\n",
      "Retrieved 3 documents (after filtering)\n",
      "The attention model architecture, specifically the Transformer, consists of an encoder-decoder structure. The encoder stack maps an input sequence to continuous representations using stacked self-attention and point-wise, fully connected layers. The decoder stack generates the output sequence auto-regressively, using previously generated symbols as input. Each layer in both the encoder and decoder employs residual connections followed by layer normalization, with all sub-layers producing outputs of dimension **dmodel = 512**. The decoder includes an additional sub-layer for multi-head attention over the encoder outputs and modifies the self-attention sub-layer to mask future positions, ensuring predictions depend only on known prior outputs. The attention mechanism used is \"Scaled Dot-Product Attention,\" which computes outputs as weighted sums of values, with weights derived from the compatibility of queries and keys.\n"
     ]
    }
   ],
   "source": [
    "def rag_simple(query,retriever,llm,top_k=3):\n",
    "    results = retriever.retrieve(query,top_k)\n",
    "    context = \"\\n\\n\".join([doc['content'] for doc in results]) if results else \"\"\n",
    "    if not context:\n",
    "        return \"No relevant context found to answer the question\"\n",
    "    prompt=f\"\"\"Use the following context to answer the question concisely.\n",
    "        Context:\n",
    "        {context}\n",
    "\n",
    "        Question: {query}\n",
    "\n",
    "        Answer:\"\"\"\n",
    "    \n",
    "    response = llm.invoke([\n",
    "        SystemMessage(content=\"You are a helpful assistant that uses provided context.\"),\n",
    "        HumanMessage(content=prompt)\n",
    "        ])\n",
    "    return response.content\n",
    "    \n",
    "answer=rag_simple(\"model architecture of attention model\",rag_retriever,llm)\n",
    "print(answer)\n"
   ]
  },
  {
   "cell_type": "code",
   "execution_count": 30,
   "id": "0ddb7f8c",
   "metadata": {},
   "outputs": [],
   "source": [
    "## Enhance the RAG Pipeline\n",
    "\n",
    "def rag_advance(query,retriever,llm,top_k=5,min_score=0.2,return_context = False):\n",
    "    results = retriever.retrieve(query, top_k=top_k, score_threshold=min_score)\n",
    "    if not results:\n",
    "        return {'answer': 'No relevant context found.', 'sources': [], 'confidence': 0.0, 'context': ''}\n",
    "    \n",
    "    context = \"\\n\\n\".join([doc['content'] for doc in results])\n",
    "    sources = [{\n",
    "        \"source\": doc[\"metadata\"].get(\"source_file\",doc[\"metadata\"].get(\"source\",\"unknown\")),\n",
    "        \"page\": doc[\"metadata\"].get(\"page\",\"unknown\"),\n",
    "        \"score\": doc['similarity_score'],\n",
    "        \"preview\": doc[\"content\"][:300] + \"...\"\n",
    "    }for doc in results]\n",
    "    confidence = max([doc['similarity_score'] for doc in results])\n",
    "\n",
    "    prompt = f\"\"\"Use the following context to answer the question concisely.\\nContext:\\n{context}\\n\\nQuestion: {query}\\n\\nAnswer:\"\"\"\n",
    "    response = llm.invoke([prompt.format(context=context, query=query)])\n",
    "\n",
    "    output = {\n",
    "        'answer': response.content,\n",
    "        \"sources\": sources,\n",
    "        \"confidence\": confidence\n",
    "    }\n",
    "    if return_context:\n",
    "        output['context'] = context\n",
    "    return output\n"
   ]
  },
  {
   "cell_type": "code",
   "execution_count": 31,
   "id": "e8811224",
   "metadata": {},
   "outputs": [
    {
     "name": "stdout",
     "output_type": "stream",
     "text": [
      "Retrieving documents for query: 'dimension of embeddings in attention model'\n",
      "Top K: 3, Score threshold: 0.1\n",
      "Generating embeddings for 1 texts using model: text-embedding-3-large\n",
      "Generated embeddings with shape: (1, 3072)\n",
      "Retrieved 3 documents (after filtering)\n",
      "Answer: The dimension of embeddings in the attention model is **dmodel**.\n",
      "Sources: [{'source': 'attention.pdf', 'page': 2, 'score': 0.23711854219436646, 'preview': 'around each of the sub-layers, followed by layer normalization. We also modify the self-attention\\nsub-layer in the decoder stack to prevent positions from attending to subsequent positions. This\\nmasking, combined with fact that the output embeddings are offset by one position, ensures that the\\npredi...'}, {'source': 'attention.pdf', 'page': 5, 'score': 0.2141849398612976, 'preview': 'Table 1: Maximum path lengths, per-layer complexity and minimum number of sequential operations\\nfor different layer types. nis the sequence length, dis the representation dimension, kis the kernel\\nsize of convolutions and rthe size of the neighborhood in restricted self-attention.\\nLayer Type Complex...'}, {'source': 'attention.pdf', 'page': 3, 'score': 0.20522230863571167, 'preview': 'we found it beneﬁcial to linearly project the queries, keys and values htimes with different, learned\\nlinear projections to dk, dk and dv dimensions, respectively. On each of these projected versions of\\nqueries, keys and values we then perform the attention function in parallel, yielding dv-dimensio...'}]\n",
      "Confidence: 0.23711854219436646\n",
      "Context Preview: around each of the sub-layers, followed by layer normalization. We also modify the self-attention\n",
      "sub-layer in the decoder stack to prevent positions from attending to subsequent positions. This\n",
      "masking, combined with fact that the output embeddings are offset by one position, ensures that the\n",
      "predi\n"
     ]
    }
   ],
   "source": [
    "result = rag_advance(\"dimension of embeddings in attention model\", rag_retriever, llm, top_k=3, min_score=0.1, return_context=True)\n",
    "print(\"Answer:\", result['answer'])\n",
    "print(\"Sources:\", result['sources'])\n",
    "print(\"Confidence:\", result['confidence'])\n",
    "print(\"Context Preview:\", result['context'][:300])"
   ]
  },
  {
   "cell_type": "markdown",
   "id": "b4709265",
   "metadata": {},
   "source": [
    "### Advanced RAG Pipeline: Streaming, Citations, History, Summarization"
   ]
  },
  {
   "cell_type": "code",
   "execution_count": 43,
   "id": "d2151075",
   "metadata": {},
   "outputs": [],
   "source": [
    "from typing import Dict, Any\n",
    "import time\n",
    "\n",
    "class AdvancedRAGPipeline:\n",
    "    def __init__(self, retriever, llm):\n",
    "        self.retriever = retriever\n",
    "        self.llm = llm\n",
    "        self.history = []\n",
    "\n",
    "    def query(self, question: str, top_k: int = 5, min_score: float = 0.2, stream: bool = False, summarize: bool = False) -> Dict[str, Any]:\n",
    "        results = self.retriever.retrieve(question, top_k=top_k, score_threshold=min_score)\n",
    "        \n",
    "        if not results:\n",
    "            answer = \"No relevant context found.\"\n",
    "            sources = []\n",
    "            context = \"\"\n",
    "        else:\n",
    "            context = \"\\n\\n\".join([doc['content'] for doc in results])\n",
    "            sources = [{\n",
    "                'source': doc['metadata'].get('source_file', doc['metadata'].get('source', 'unknown')),\n",
    "                'page': doc['metadata'].get('page', 'unknown'),\n",
    "                'score': doc['similarity_score'],\n",
    "                'preview': doc['content'][:120] + '...'\n",
    "            } for doc in results]\n",
    "\n",
    "            prompt = f\"\"\"Use the following context to answer the question concisely.\n",
    "Context:\n",
    "{context}\n",
    "\n",
    "Question: {question}\n",
    "\n",
    "Answer:\"\"\"\n",
    "\n",
    "            if stream:\n",
    "                print(\"Streaming answer (simulated):\")\n",
    "                for i in range(0, len(prompt), 80):\n",
    "                    print(prompt[i:i+80], end='', flush=True)\n",
    "                    time.sleep(0.05)\n",
    "                print()\n",
    "\n",
    "            response = self.llm.invoke([prompt])\n",
    "            answer = getattr(response, 'content', response)\n",
    "\n",
    "        citations = [f\"[{i+1}] {src['source']} (page {src['page']})\" for i, src in enumerate(sources)]\n",
    "        answer_with_citations = answer + (\"\\n\\nCitations:\\n\" + \"\\n\".join(citations) if citations else \"\")\n",
    "\n",
    "        summary = None\n",
    "        if summarize and answer:\n",
    "            summary_prompt = f\"Summarize the following answer in 2 sentences:\\n{answer}\"\n",
    "            summary_resp = self.llm.invoke([summary_prompt])\n",
    "            summary = getattr(summary_resp, 'content', summary_resp)\n",
    "\n",
    "        self.history.append({\n",
    "            'question': question,\n",
    "            'answer': answer,\n",
    "            'sources': sources,\n",
    "            'summary': summary\n",
    "        })\n",
    "\n",
    "        return {\n",
    "            'question': question,\n",
    "            'answer': answer_with_citations,\n",
    "            'sources': sources,\n",
    "            'summary': summary,\n",
    "            'history': self.history\n",
    "        }\n"
   ]
  },
  {
   "cell_type": "code",
   "execution_count": 44,
   "id": "28c0db6c",
   "metadata": {},
   "outputs": [
    {
     "name": "stdout",
     "output_type": "stream",
     "text": [
      "Retrieving documents for query: 'architecture of yolo model'\n",
      "Top K: 3, Score threshold: 0.1\n",
      "Generating embeddings for 1 texts using model: text-embedding-3-large\n",
      "Generated embeddings with shape: (1, 3072)\n",
      "Retrieved 1 documents (after filtering)\n",
      "Streaming answer (simulated):\n",
      "Use the following context to answer the question concisely.\n",
      "Context:\n",
      "Our network architecture is inspired by the GoogLeNet\n",
      "model for image classiﬁcation [34]. Our network has 24\n",
      "convolutional layers followed by 2 fully connected layers.\n",
      "Instead of the inception modules used by GoogLeNet, we\n",
      "simply use 1 ×1 reduction layers followed by 3 ×3 convo-\n",
      "lutional layers, similar to Lin et al [22]. The full network is\n",
      "shown in Figure 3.\n",
      "We also train a fast version of YOLO designed to push\n",
      "the boundaries of fast object detection. Fast YOLO uses a\n",
      "neural network with fewer convolutional layers (9 instead\n",
      "of 24) and fewer ﬁlters in those layers. Other than the size\n",
      "of the network, all training and testing parameters are the\n",
      "same between YOLO and Fast YOLO.\n",
      "\n",
      "Question: architecture of yolo model\n",
      "\n",
      "Answer:\n",
      "\n",
      "Final Answer: The YOLO model architecture is inspired by the GoogLeNet model for image classification. It consists of 24 convolutional layers followed by 2 fully connected layers. Instead of GoogLeNet's inception modules, it uses 1×1 reduction layers followed by 3×3 convolutional layers. A faster version of YOLO, called Fast YOLO, uses a smaller neural network with 9 convolutional layers and fewer filters. Both models share the same training and testing parameters except for the network size.\n",
      "\n",
      "Citations:\n",
      "[1] yolo.pdf (page 1)\n",
      "Summary: The YOLO model architecture is based on GoogLeNet but replaces inception modules with 1×1 reduction layers and 3×3 convolutional layers, featuring 24 convolutional layers and 2 fully connected layers. A faster variant, Fast YOLO, uses a smaller network with 9 convolutional layers, maintaining the same training and testing parameters as the original model except for its size.\n",
      "History: {'question': 'architecture of yolo model', 'answer': \"The YOLO model architecture is inspired by the GoogLeNet model for image classification. It consists of 24 convolutional layers followed by 2 fully connected layers. Instead of GoogLeNet's inception modules, it uses 1×1 reduction layers followed by 3×3 convolutional layers. A faster version of YOLO, called Fast YOLO, uses a smaller neural network with 9 convolutional layers and fewer filters. Both models share the same training and testing parameters except for the network size.\", 'sources': [{'source': 'yolo.pdf', 'page': 1, 'score': 0.18369519710540771, 'preview': 'Our network architecture is inspired by the GoogLeNet\\nmodel for image classiﬁcation [34]. Our network has 24\\nconvolution...'}], 'summary': 'The YOLO model architecture is based on GoogLeNet but replaces inception modules with 1×1 reduction layers and 3×3 convolutional layers, featuring 24 convolutional layers and 2 fully connected layers. A faster variant, Fast YOLO, uses a smaller network with 9 convolutional layers, maintaining the same training and testing parameters as the original model except for its size.'}\n"
     ]
    }
   ],
   "source": [
    "adv_rag = AdvancedRAGPipeline(rag_retriever, llm)\n",
    "result = adv_rag.query(\"architecture of yolo model\", top_k=3, min_score=0.1, stream=True, summarize=True)\n",
    "print(\"\\nFinal Answer:\", result['answer'])\n",
    "print(\"Summary:\", result['summary'])\n",
    "print(\"History:\", result['history'][-1])"
   ]
  },
  {
   "cell_type": "code",
   "execution_count": 49,
   "id": "998ec553",
   "metadata": {},
   "outputs": [
    {
     "name": "stdout",
     "output_type": "stream",
     "text": [
      "Retrieving documents for query: 'architecture of yolo model'\n",
      "Top K: 3, Score threshold: 0.1\n",
      "Generating embeddings for 1 texts using model: text-embedding-3-large\n",
      "Generated embeddings with shape: (1, 3072)\n",
      "Retrieved 1 documents (after filtering)\n",
      "Streaming answer:\n",
      "The YOLO model architecture is inspired by the GoogLeNet model for image classification. It consists of 24 convolutional layers followed by 2 fully connected layers. Instead of using inception modules like GoogLeNet, YOLO employs 1×1 reduction layers followed by 3×3 convolutional layers. A faster version of the model, called Fast YOLO, has a smaller architecture with 9 convolutional layers and fewer filters while maintaining the same training and testing parameters.\n",
      "\n",
      "Final Answer: The YOLO model architecture is inspired by the GoogLeNet model for image classification. It consists of 24 convolutional layers followed by 2 fully connected layers. Instead of using inception modules like GoogLeNet, YOLO employs 1×1 reduction layers followed by 3×3 convolutional layers. A faster version of the model, called Fast YOLO, has a smaller architecture with 9 convolutional layers and fewer filters while maintaining the same training and testing parameters.\n",
      "\n",
      "Citations:\n",
      "[1] yolo.pdf (page 1)\n",
      "Summary: The YOLO model architecture, inspired by GoogLeNet, uses 24 convolutional layers, 2 fully connected layers, and 1×1 reduction layers followed by 3×3 convolutional layers instead of inception modules. Its faster variant, Fast YOLO, reduces the architecture to 9 convolutional layers with fewer filters while keeping the same training and testing parameters.\n",
      "History: {'question': 'architecture of yolo model', 'answer': 'The YOLO model architecture is inspired by the GoogLeNet model for image classification. It consists of 24 convolutional layers followed by 2 fully connected layers. Instead of using inception modules like GoogLeNet, YOLO employs 1×1 reduction layers followed by 3×3 convolutional layers. A faster version of the model, called Fast YOLO, has a smaller architecture with 9 convolutional layers and fewer filters while maintaining the same training and testing parameters.', 'sources': [{'source': 'yolo.pdf', 'page': 1, 'score': 0.18369519710540771, 'preview': 'Our network architecture is inspired by the GoogLeNet\\nmodel for image classiﬁcation [34]. Our network has 24\\nconvolution...'}], 'summary': 'The YOLO model architecture, inspired by GoogLeNet, uses 24 convolutional layers, 2 fully connected layers, and 1×1 reduction layers followed by 3×3 convolutional layers instead of inception modules. Its faster variant, Fast YOLO, reduces the architecture to 9 convolutional layers with fewer filters while keeping the same training and testing parameters.'}\n"
     ]
    }
   ],
   "source": [
    "## with streaming\n",
    "\n",
    "from langchain_openai import AzureChatOpenAI\n",
    "from langchain_core.prompts import PromptTemplate\n",
    "from langchain_core.messages import HumanMessage,SystemMessage \n",
    "\n",
    "llm = AzureChatOpenAI(\n",
    "    openai_api_key=os.getenv(\"AZURE_OPENAI_API_KEY\"),\n",
    "    azure_endpoint=os.getenv(\"AZURE_OPENAI_ENDPOINT\"),\n",
    "    azure_deployment=os.getenv(\"AZURE_OPENAI_DEPLOYMENT_NAME\"),\n",
    "    api_version=os.getenv(\"AZURE_OPENAI_API_VERSION\"),\n",
    "    temperature=0.7,streaming=True\n",
    ")\n",
    "from typing import Dict, Any\n",
    "from langchain_openai import AzureChatOpenAI\n",
    "from langchain_core.messages import HumanMessage\n",
    "\n",
    "class AdvancedRAGPipelineStream:\n",
    "    def __init__(self, retriever, llm: AzureChatOpenAI):\n",
    "        self.retriever = retriever\n",
    "        self.llm = llm\n",
    "        self.history = []\n",
    "\n",
    "    def query(\n",
    "        self,\n",
    "        question: str,\n",
    "        top_k: int = 5,\n",
    "        min_score: float = 0.2,\n",
    "        stream: bool = False,\n",
    "        summarize: bool = False\n",
    "    ) -> Dict[str, Any]:\n",
    "        # 1. Retrieve relevant documents\n",
    "        results = self.retriever.retrieve(question, top_k=top_k, score_threshold=min_score)\n",
    "\n",
    "        if not results:\n",
    "            answer = \"No relevant context found.\"\n",
    "            sources = []\n",
    "            context = \"\"\n",
    "        else:\n",
    "            context = \"\\n\\n\".join([doc['content'] for doc in results])\n",
    "            sources = [{\n",
    "                'source': doc['metadata'].get('source_file', doc['metadata'].get('source', 'unknown')),\n",
    "                'page': doc['metadata'].get('page', 'unknown'),\n",
    "                'score': doc['similarity_score'],\n",
    "                'preview': doc['content'][:120] + '...'\n",
    "            } for doc in results]\n",
    "\n",
    "            prompt = f\"\"\"Use the following context to answer the question concisely.\n",
    "Context:\n",
    "{context}\n",
    "\n",
    "Question: {question}\n",
    "\n",
    "Answer:\"\"\"\n",
    "\n",
    "            # 2. Generate answer\n",
    "            if stream:\n",
    "                # Streaming mode\n",
    "                print(\"Streaming answer:\")\n",
    "                answer = \"\"\n",
    "                for chunk in self.llm.stream([HumanMessage(content=prompt)]):\n",
    "                    token = getattr(chunk, \"content\", str(chunk))\n",
    "                    answer += token\n",
    "                    print(token, end='', flush=True)\n",
    "                print()  # newline after streaming\n",
    "            else:\n",
    "                # Non-streaming mode\n",
    "                response = self.llm.generate([[HumanMessage(content=prompt)]])\n",
    "                answer = response.generations[0][0].text\n",
    "\n",
    "        # 3. Add citations\n",
    "        citations = [f\"[{i+1}] {src['source']} (page {src['page']})\" for i, src in enumerate(sources)]\n",
    "        answer_with_citations = answer + (\"\\n\\nCitations:\\n\" + \"\\n\".join(citations) if citations else \"\")\n",
    "\n",
    "        # 4. Optional summary\n",
    "        summary = None\n",
    "        if summarize and answer:\n",
    "            summary_prompt = f\"Summarize the following answer in 2 sentences:\\n{answer}\"\n",
    "            summary_resp = self.llm.generate([[HumanMessage(content=summary_prompt)]])\n",
    "            summary = summary_resp.generations[0][0].text\n",
    "\n",
    "        # 5. Store query history\n",
    "        self.history.append({\n",
    "            'question': question,\n",
    "            'answer': answer,\n",
    "            'sources': sources,\n",
    "            'summary': summary\n",
    "        })\n",
    "\n",
    "        # 6. Return results\n",
    "        return {\n",
    "            'question': question,\n",
    "            'answer': answer_with_citations,\n",
    "            'sources': sources,\n",
    "            'summary': summary,\n",
    "            'history': self.history\n",
    "        }\n",
    "\n",
    "\n",
    "    \n",
    "adv_rag = AdvancedRAGPipelineStream(rag_retriever, llm)\n",
    "result = adv_rag.query(\"architecture of yolo model\", top_k=3, min_score=0.1, stream=True, summarize=True)\n",
    "print(\"\\nFinal Answer:\", result['answer'])\n",
    "print(\"Summary:\", result['summary'])\n",
    "print(\"History:\", result['history'][-1])\n"
   ]
  },
  {
   "cell_type": "code",
   "execution_count": null,
   "id": "f60fca52",
   "metadata": {},
   "outputs": [],
   "source": []
  }
 ],
 "metadata": {
  "kernelspec": {
   "display_name": "rag",
   "language": "python",
   "name": "python3"
  },
  "language_info": {
   "codemirror_mode": {
    "name": "ipython",
    "version": 3
   },
   "file_extension": ".py",
   "mimetype": "text/x-python",
   "name": "python",
   "nbconvert_exporter": "python",
   "pygments_lexer": "ipython3",
   "version": "3.11.0"
  }
 },
 "nbformat": 4,
 "nbformat_minor": 5
}
